{
 "cells": [
  {
   "cell_type": "markdown",
   "metadata": {},
   "source": [
    "# NumPy Tutorial"
   ]
  },
  {
   "cell_type": "code",
   "execution_count": 147,
   "metadata": {},
   "outputs": [],
   "source": [
    "#import Numpy and created own first array\n",
    "import numpy as np\n",
    "\n",
    "x = np.array([1,2,3,4,5])  # 1D array that contain integers"
   ]
  },
  {
   "cell_type": "code",
   "execution_count": 148,
   "metadata": {},
   "outputs": [
    {
     "name": "stdout",
     "output_type": "stream",
     "text": [
      "[1 2 3 4 5]\n",
      "<class 'numpy.ndarray'>\n"
     ]
    }
   ],
   "source": [
    "print(x)\n",
    "print(type(x))"
   ]
  },
  {
   "cell_type": "code",
   "execution_count": 149,
   "metadata": {},
   "outputs": [
    {
     "data": {
      "text/plain": [
       "dtype('int64')"
      ]
     },
     "execution_count": 149,
     "metadata": {},
     "output_type": "execute_result"
    }
   ],
   "source": [
    "x.dtype #returns the data type of the element in that array. \n",
    "        #This d-type let us know that the element of x are stored in memory a signed 64-bit integer"
   ]
  },
  {
   "cell_type": "code",
   "execution_count": 150,
   "metadata": {},
   "outputs": [
    {
     "data": {
      "text/plain": [
       "(5,)"
      ]
     },
     "execution_count": 150,
     "metadata": {},
     "output_type": "execute_result"
    }
   ],
   "source": [
    "x.shape #returns an integer indicating the length of the array, five (here) "
   ]
  },
  {
   "cell_type": "code",
   "execution_count": 151,
   "metadata": {},
   "outputs": [
    {
     "name": "stdout",
     "output_type": "stream",
     "text": [
      "[[1 2 3 4]\n",
      " [1 2 3 4]\n",
      " [1 2 3 4]\n",
      " [1 2 3 4]\n",
      " [1 2 3 4]]\n"
     ]
    }
   ],
   "source": [
    "y = np.array ([[1,2,3,4], [1,2,3,4], [1,2,3,4,], [1,2,3,4,], [1,2,3,4]])\n",
    "print(y)"
   ]
  },
  {
   "cell_type": "code",
   "execution_count": 152,
   "metadata": {},
   "outputs": [
    {
     "data": {
      "text/plain": [
       "(5, 4)"
      ]
     },
     "execution_count": 152,
     "metadata": {},
     "output_type": "execute_result"
    }
   ],
   "source": [
    "y.shape #5 rows and 4 columns"
   ]
  },
  {
   "cell_type": "code",
   "execution_count": 153,
   "metadata": {},
   "outputs": [
    {
     "data": {
      "text/plain": [
       "20"
      ]
     },
     "execution_count": 153,
     "metadata": {},
     "output_type": "execute_result"
    }
   ],
   "source": [
    "y.size # 20 elements"
   ]
  },
  {
   "cell_type": "code",
   "execution_count": 154,
   "metadata": {},
   "outputs": [
    {
     "name": "stdout",
     "output_type": "stream",
     "text": [
      "['Hello' 'Hola']\n"
     ]
    }
   ],
   "source": [
    "x = np.array(['Hello', 'Hola'])\n",
    "print(x)"
   ]
  },
  {
   "cell_type": "code",
   "execution_count": 155,
   "metadata": {},
   "outputs": [
    {
     "name": "stdout",
     "output_type": "stream",
     "text": [
      "shape: (2,)\n",
      "type: <class 'numpy.ndarray'>\n",
      "dtype: <U5\n"
     ]
    }
   ],
   "source": [
    "print('shape:', x.shape)\n",
    "print('type:', type(x))\n",
    "print('dtype:', x.dtype)"
   ]
  },
  {
   "cell_type": "code",
   "execution_count": 156,
   "metadata": {},
   "outputs": [
    {
     "name": "stdout",
     "output_type": "stream",
     "text": [
      "['1' '2' 'hola']\n",
      "shape: (3,)\n",
      "type: <class 'numpy.ndarray'>\n",
      "dtype: <U21\n"
     ]
    }
   ],
   "source": [
    "x = np.array([1,2,'hola'])\n",
    "print(x)\n",
    "print('shape:', x.shape)\n",
    "print('type:', type(x))\n",
    "print('dtype:', x.dtype)"
   ]
  },
  {
   "cell_type": "code",
   "execution_count": 157,
   "metadata": {},
   "outputs": [
    {
     "name": "stdout",
     "output_type": "stream",
     "text": [
      "[1.  1.2 3. ] float64\n"
     ]
    }
   ],
   "source": [
    "x = np.array([1, 1.2, 3])\n",
    "print(x, x.dtype)  #when the input is a float is called outcasting (lo hace para no perder precision en futuros calculos)"
   ]
  },
  {
   "cell_type": "code",
   "execution_count": 158,
   "metadata": {},
   "outputs": [
    {
     "name": "stdout",
     "output_type": "stream",
     "text": [
      "[1 1 3] int64\n"
     ]
    }
   ],
   "source": [
    "x = np.array([1, 1.2, 3], dtype = np.int64) #to get integer even if it is a float\n",
    "print(x, x.dtype) "
   ]
  },
  {
   "cell_type": "code",
   "execution_count": 159,
   "metadata": {},
   "outputs": [],
   "source": [
    "#to save array into a file named my_array.npy\n",
    "x = np.array([1,2,4,5])\n",
    "np.save('my_array', x) #dont forget the name of the variable where the array is"
   ]
  },
  {
   "cell_type": "code",
   "execution_count": 160,
   "metadata": {},
   "outputs": [
    {
     "name": "stdout",
     "output_type": "stream",
     "text": [
      "[1 2 4 5]\n"
     ]
    }
   ],
   "source": [
    "#we can load this document in a new variable using load function\n",
    "y = np.load('my_array.npy')\n",
    "print(x)"
   ]
  },
  {
   "cell_type": "code",
   "execution_count": 161,
   "metadata": {},
   "outputs": [
    {
     "data": {
      "text/plain": [
       "array([1, 2, 3, 4, 5])"
      ]
     },
     "execution_count": 161,
     "metadata": {},
     "output_type": "execute_result"
    }
   ],
   "source": [
    "my_list = [1,2,3,4,5]\n",
    "np.array(my_list)"
   ]
  },
  {
   "cell_type": "code",
   "execution_count": 162,
   "metadata": {},
   "outputs": [
    {
     "name": "stdout",
     "output_type": "stream",
     "text": [
      "[[0. 0. 0. 0.]\n",
      " [0. 0. 0. 0.]\n",
      " [0. 0. 0. 0.]]\n",
      "\n",
      "dtype: float64\n"
     ]
    }
   ],
   "source": [
    "x = np.zeros((3,4))\n",
    "print(x)\n",
    "print('\\ndtype:', x.dtype)"
   ]
  },
  {
   "cell_type": "code",
   "execution_count": 163,
   "metadata": {},
   "outputs": [
    {
     "name": "stdout",
     "output_type": "stream",
     "text": [
      "[[0 0 0 0]\n",
      " [0 0 0 0]\n",
      " [0 0 0 0]]\n",
      "\n",
      "dtype: int64\n"
     ]
    }
   ],
   "source": [
    "x = np.zeros((3,4), dtype = np.int64)\n",
    "print(x)\n",
    "print('\\ndtype:', x.dtype)"
   ]
  },
  {
   "cell_type": "code",
   "execution_count": 164,
   "metadata": {},
   "outputs": [
    {
     "name": "stdout",
     "output_type": "stream",
     "text": [
      "[[1. 1. 1. 1. 1.]\n",
      " [1. 1. 1. 1. 1.]\n",
      " [1. 1. 1. 1. 1.]\n",
      " [1. 1. 1. 1. 1.]]\n"
     ]
    }
   ],
   "source": [
    "x = np.ones((4,5))\n",
    "print(x)"
   ]
  },
  {
   "cell_type": "code",
   "execution_count": 165,
   "metadata": {},
   "outputs": [
    {
     "name": "stdout",
     "output_type": "stream",
     "text": [
      "[[5 5 5]\n",
      " [5 5 5]\n",
      " [5 5 5]\n",
      " [5 5 5]]\n"
     ]
    }
   ],
   "source": [
    "x = np.full((4,3), 5)\n",
    "print(x)"
   ]
  },
  {
   "cell_type": "code",
   "execution_count": 166,
   "metadata": {},
   "outputs": [
    {
     "name": "stdout",
     "output_type": "stream",
     "text": [
      "dtype: int64\n"
     ]
    }
   ],
   "source": [
    "print('dtype:', x.dtype)"
   ]
  },
  {
   "cell_type": "code",
   "execution_count": 167,
   "metadata": {},
   "outputs": [
    {
     "name": "stdout",
     "output_type": "stream",
     "text": [
      "[[1. 0. 0. 0. 0.]\n",
      " [0. 1. 0. 0. 0.]\n",
      " [0. 0. 1. 0. 0.]\n",
      " [0. 0. 0. 1. 0.]\n",
      " [0. 0. 0. 0. 1.]]\n"
     ]
    }
   ],
   "source": [
    "#identity matrix\n",
    "x = np.eye(5)\n",
    "print(x)"
   ]
  },
  {
   "cell_type": "code",
   "execution_count": 168,
   "metadata": {},
   "outputs": [
    {
     "name": "stdout",
     "output_type": "stream",
     "text": [
      "[[10  0  0  0]\n",
      " [ 0 20  0  0]\n",
      " [ 0  0 30  0]\n",
      " [ 0  0  0 50]]\n"
     ]
    }
   ],
   "source": [
    "#diagonal matrix\n",
    "x = np.diag([10, 20, 30, 50])\n",
    "print(x)\n",
    "            "
   ]
  },
  {
   "cell_type": "code",
   "execution_count": 169,
   "metadata": {},
   "outputs": [
    {
     "name": "stdout",
     "output_type": "stream",
     "text": [
      "[0 1 2 3 4 5 6 7 8 9]\n"
     ]
    }
   ],
   "source": [
    "#arrays with specific numerical ranges, this have three argument: star, stop, step, if we not specifi one, the program\n",
    "#will understand own argument like a stop\n",
    "x = np.arange(10)\n",
    "print(x)"
   ]
  },
  {
   "cell_type": "code",
   "execution_count": 170,
   "metadata": {},
   "outputs": [
    {
     "name": "stdout",
     "output_type": "stream",
     "text": [
      "[4 5 6 7 8 9]\n"
     ]
    }
   ],
   "source": [
    "x = np.arange(4,10) #give us an array from 4 to 9\n",
    "print(x)"
   ]
  },
  {
   "cell_type": "code",
   "execution_count": 171,
   "metadata": {},
   "outputs": [
    {
     "name": "stdout",
     "output_type": "stream",
     "text": [
      "[ 1  4  7 10 13]\n"
     ]
    }
   ],
   "source": [
    "x = np.arange(1, 14, 3) #star, stop, step, empieza en 1, termina en 14-1 y genera los números cada 3.\n",
    "print(x)"
   ]
  },
  {
   "cell_type": "code",
   "execution_count": 172,
   "metadata": {},
   "outputs": [
    {
     "name": "stdout",
     "output_type": "stream",
     "text": [
      "[ 0.          2.77777778  5.55555556  8.33333333 11.11111111 13.88888889\n",
      " 16.66666667 19.44444444 22.22222222 25.        ]\n"
     ]
    }
   ],
   "source": [
    "#arrays with specific numerical ranges, this have three argument: star, stop and end.\n",
    "x = np.linspace(0, 25, 10)\n",
    "print(x)"
   ]
  },
  {
   "cell_type": "code",
   "execution_count": 173,
   "metadata": {},
   "outputs": [
    {
     "name": "stdout",
     "output_type": "stream",
     "text": [
      "[ 0.   2.5  5.   7.5 10.  12.5 15.  17.5 20.  22.5]\n"
     ]
    }
   ],
   "source": [
    "x = np.linspace(0, 25, 10, endpoint = False)#si añadimos esto al final, elimina el último argumento\n",
    "print(x)"
   ]
  },
  {
   "cell_type": "code",
   "execution_count": 174,
   "metadata": {},
   "outputs": [
    {
     "name": "stdout",
     "output_type": "stream",
     "text": [
      "[ 0  1  2  3  4  5  6  7  8  9 10 11 12 13 14 15 16 17 18 19]\n"
     ]
    }
   ],
   "source": [
    "x = np.arange(20)\n",
    "print(x)"
   ]
  },
  {
   "cell_type": "code",
   "execution_count": 175,
   "metadata": {},
   "outputs": [
    {
     "name": "stdout",
     "output_type": "stream",
     "text": [
      "[[ 0  1  2  3  4]\n",
      " [ 5  6  7  8  9]\n",
      " [10 11 12 13 14]\n",
      " [15 16 17 18 19]]\n"
     ]
    }
   ],
   "source": [
    "x = np.reshape(x, (4,5))\n",
    "print(x)"
   ]
  },
  {
   "cell_type": "code",
   "execution_count": 176,
   "metadata": {},
   "outputs": [
    {
     "name": "stdout",
     "output_type": "stream",
     "text": [
      "[[ 0  1]\n",
      " [ 2  3]\n",
      " [ 4  5]\n",
      " [ 6  7]\n",
      " [ 8  9]\n",
      " [10 11]\n",
      " [12 13]\n",
      " [14 15]\n",
      " [16 17]\n",
      " [18 19]]\n"
     ]
    }
   ],
   "source": [
    "x = np.reshape(x, (10,2))\n",
    "print(x)"
   ]
  },
  {
   "cell_type": "code",
   "execution_count": 177,
   "metadata": {},
   "outputs": [
    {
     "name": "stdout",
     "output_type": "stream",
     "text": [
      "[[ 0  1]\n",
      " [ 2  3]\n",
      " [ 4  5]\n",
      " [ 6  7]\n",
      " [ 8  9]\n",
      " [10 11]\n",
      " [12 13]\n",
      " [14 15]\n",
      " [16 17]\n",
      " [18 19]]\n"
     ]
    }
   ],
   "source": [
    "x = np.arange(20).reshape((10,2))\n",
    "print(x)                      "
   ]
  },
  {
   "cell_type": "code",
   "execution_count": 178,
   "metadata": {},
   "outputs": [
    {
     "name": "stdout",
     "output_type": "stream",
     "text": [
      "[[ 0.  5.]\n",
      " [10. 15.]\n",
      " [20. 25.]\n",
      " [30. 35.]\n",
      " [40. 45.]]\n"
     ]
    }
   ],
   "source": [
    "x = np.linspace(0, 50, 10, endpoint = False).reshape((5,2))\n",
    "print(x)"
   ]
  },
  {
   "cell_type": "code",
   "execution_count": 179,
   "metadata": {},
   "outputs": [
    {
     "name": "stdout",
     "output_type": "stream",
     "text": [
      "[[0.1574861  0.72351916 0.93333466]\n",
      " [0.9114343  0.1280866  0.96762197]\n",
      " [0.38041017 0.64087004 0.50843488]]\n"
     ]
    }
   ],
   "source": [
    "#en machine learning necesitaremos crear matrices random, por ejemplo cuando inincializamos weight in a neural network.\n",
    "x = np.random.random((3,3))\n",
    "print(x)"
   ]
  },
  {
   "cell_type": "code",
   "execution_count": 180,
   "metadata": {},
   "outputs": [
    {
     "name": "stdout",
     "output_type": "stream",
     "text": [
      "[[ 4 12]\n",
      " [11 12]\n",
      " [ 6 10]]\n"
     ]
    }
   ],
   "source": [
    "x = np.random.randint(4,15,(3,2)) #lower bound(inclusive), uper bound(exclusive) and the shape.\n",
    "print(x)"
   ]
  },
  {
   "cell_type": "code",
   "execution_count": 181,
   "metadata": {},
   "outputs": [
    {
     "name": "stdout",
     "output_type": "stream",
     "text": [
      "[[ 0.07256491  0.04598688 -0.13618964 ... -0.01956285  0.01424626\n",
      "  -0.2708211 ]\n",
      " [-0.01522261 -0.04600712 -0.02622168 ...  0.1569105   0.06529496\n",
      "  -0.01627605]\n",
      " [ 0.05914572  0.04917201 -0.00955013 ...  0.00756537  0.20904819\n",
      "   0.03811341]\n",
      " ...\n",
      " [ 0.02504786 -0.03579804  0.12933238 ...  0.13598087 -0.02819433\n",
      "  -0.05027384]\n",
      " [-0.09796899  0.06757024  0.17765501 ... -0.16627005  0.067905\n",
      "   0.05077646]\n",
      " [-0.01435157 -0.00142173  0.03318329 ...  0.08847982 -0.08056593\n",
      "  -0.04518566]]\n"
     ]
    }
   ],
   "source": [
    "#created an array with a given shape that contains randoms numers picked from a normal distribution with a given mean\n",
    "#and standard deviation\n",
    "x = np.random.normal(0, 0.1, size=(1000,1000)) #created a 1000*1000 array froma normal distribution with \n",
    "                                               #mean = 0 , standart_deviation = 0.1, \n",
    "print(x)"
   ]
  },
  {
   "cell_type": "code",
   "execution_count": 182,
   "metadata": {},
   "outputs": [
    {
     "name": "stdout",
     "output_type": "stream",
     "text": [
      "mean: -3.232437050727807e-05\n",
      "std: 0.09997608885018872\n",
      "max: 0.47139690617342506\n",
      "min: -0.4594160011044528\n",
      "# positive: 499799\n",
      "# negative: 500201\n"
     ]
    }
   ],
   "source": [
    "print('mean:', x.mean())\n",
    "print('std:', x.std())\n",
    "print('max:', x.max())\n",
    "print('min:', x.min())\n",
    "print('# positive:', (x > 0).sum())\n",
    "print('# negative:', (x < 0).sum())"
   ]
  },
  {
   "cell_type": "markdown",
   "metadata": {},
   "source": [
    "# Accessing, Deleting, and Inserting Elements Into ndarrays"
   ]
  },
  {
   "cell_type": "code",
   "execution_count": 184,
   "metadata": {},
   "outputs": [
    {
     "name": "stdout",
     "output_type": "stream",
     "text": [
      "[1 2 3 4 5]\n"
     ]
    }
   ],
   "source": [
    "import numpy as np\n",
    "x = np.array([1,2,3,4,5])\n",
    "print(x)"
   ]
  },
  {
   "cell_type": "code",
   "execution_count": 185,
   "metadata": {},
   "outputs": [
    {
     "name": "stdout",
     "output_type": "stream",
     "text": [
      "1st element: 1\n",
      "2st element: 2\n",
      "5st element: 5\n"
     ]
    }
   ],
   "source": [
    "print('1st element:', x[0])  #positives for the begginenig\n",
    "print('2st element:', x[1])\n",
    "print('5st element:', x[4])"
   ]
  },
  {
   "cell_type": "code",
   "execution_count": 186,
   "metadata": {},
   "outputs": [
    {
     "name": "stdout",
     "output_type": "stream",
     "text": [
      "1st element: 1\n",
      "2st element: 2\n",
      "5st element: 5\n"
     ]
    }
   ],
   "source": [
    "print('1st element:', x[-5])   #negatives for the end\n",
    "print('2st element:', x[-4])\n",
    "print('5st element:', x[-1])"
   ]
  },
  {
   "cell_type": "code",
   "execution_count": 187,
   "metadata": {},
   "outputs": [
    {
     "name": "stdout",
     "output_type": "stream",
     "text": [
      "[ 1  2  3 20  5]\n"
     ]
    }
   ],
   "source": [
    "#modifi element in an array\n",
    "x[3] = 20  #el numero que esta en la cuarta posición es cambiado \n",
    "print(x)\n"
   ]
  },
  {
   "cell_type": "code",
   "execution_count": 188,
   "metadata": {},
   "outputs": [
    {
     "name": "stdout",
     "output_type": "stream",
     "text": [
      "[[1 2 3]\n",
      " [4 5 6]\n",
      " [7 8 9]]\n"
     ]
    }
   ],
   "source": [
    "x = np.arange(1,10).reshape(3,3)\n",
    "print(x)"
   ]
  },
  {
   "cell_type": "code",
   "execution_count": 189,
   "metadata": {},
   "outputs": [
    {
     "name": "stdout",
     "output_type": "stream",
     "text": [
      "Element at (0,0): 1\n",
      "Element at (0,1): 2\n",
      "Element at (2,2): 9\n"
     ]
    }
   ],
   "source": [
    "print('Element at (0,0):', x[0,0])\n",
    "print('Element at (0,1):', x[0,1])\n",
    "print('Element at (2,2):', x[2,2])"
   ]
  },
  {
   "cell_type": "code",
   "execution_count": 190,
   "metadata": {},
   "outputs": [
    {
     "name": "stdout",
     "output_type": "stream",
     "text": [
      "[[20  2  3]\n",
      " [ 4  5  6]\n",
      " [ 7  8  9]]\n"
     ]
    }
   ],
   "source": [
    "x[0,0] = 20\n",
    "print(x)"
   ]
  },
  {
   "cell_type": "code",
   "execution_count": 191,
   "metadata": {},
   "outputs": [
    {
     "name": "stdout",
     "output_type": "stream",
     "text": [
      "hemos creado esta array: [1 2 3 4 5]\n",
      "\n",
      "le hemos quitado el numero que estaba situado en posición numero cero y cuatro: [2 3 4]\n"
     ]
    }
   ],
   "source": [
    "x = np.array([1,2,3,4,5])\n",
    "print('hemos creado esta array:', x)\n",
    "#delete elements using Nunmpy´s delete function\n",
    "x = np.delete(x,[0,4])\n",
    "print('\\nle hemos quitado el numero que estaba situado en posición numero cero y cuatro:', x)"
   ]
  },
  {
   "cell_type": "code",
   "execution_count": 192,
   "metadata": {},
   "outputs": [
    {
     "name": "stdout",
     "output_type": "stream",
     "text": [
      "[[1 2 3]\n",
      " [4 5 6]\n",
      " [7 8 9]]\n"
     ]
    }
   ],
   "source": [
    "y = np.arange(1,10).reshape(3,3)\n",
    "print(y)"
   ]
  },
  {
   "cell_type": "code",
   "execution_count": 193,
   "metadata": {},
   "outputs": [
    {
     "name": "stdout",
     "output_type": "stream",
     "text": [
      "\n",
      " [[4 5 6]\n",
      " [7 8 9]]\n"
     ]
    }
   ],
   "source": [
    "z = np.delete(y, 0, axis=0)\n",
    "print('\\n', z)"
   ]
  },
  {
   "cell_type": "code",
   "execution_count": 194,
   "metadata": {},
   "outputs": [
    {
     "name": "stdout",
     "output_type": "stream",
     "text": [
      "\n",
      " [[2]\n",
      " [5]\n",
      " [8]]\n"
     ]
    }
   ],
   "source": [
    "g = np.delete(y, [0,2], axis=1)\n",
    "print('\\n', g)"
   ]
  },
  {
   "cell_type": "code",
   "execution_count": 195,
   "metadata": {},
   "outputs": [
    {
     "name": "stdout",
     "output_type": "stream",
     "text": [
      "hemos creado esta array: [1 2 3 4 5]\n"
     ]
    }
   ],
   "source": [
    "#add values with the append function\n",
    "x = np.array([1,2,3,4,5])\n",
    "print('hemos creado esta array:', x)"
   ]
  },
  {
   "cell_type": "code",
   "execution_count": 196,
   "metadata": {},
   "outputs": [
    {
     "name": "stdout",
     "output_type": "stream",
     "text": [
      "\n",
      "añadimos el número seis: [1 2 3 4 5 6]\n"
     ]
    }
   ],
   "source": [
    "x = np.append(x,[6])\n",
    "print('\\nañadimos el número seis:', x)"
   ]
  },
  {
   "cell_type": "code",
   "execution_count": 197,
   "metadata": {},
   "outputs": [
    {
     "name": "stdout",
     "output_type": "stream",
     "text": [
      "\n",
      "añadimos los números 7 y 9 [1 2 3 4 5 6 7 8]\n"
     ]
    }
   ],
   "source": [
    "x = np.append(x,[7,8])\n",
    "print('\\nañadimos los números 7 y 9', x)"
   ]
  },
  {
   "cell_type": "code",
   "execution_count": 198,
   "metadata": {},
   "outputs": [
    {
     "name": "stdout",
     "output_type": "stream",
     "text": [
      "[[1 2 3]\n",
      " [4 5 6]\n",
      " [7 8 9]]\n"
     ]
    }
   ],
   "source": [
    "y = np.arange(1,10).reshape(3,3)\n",
    "print(y)"
   ]
  },
  {
   "cell_type": "code",
   "execution_count": 199,
   "metadata": {},
   "outputs": [
    {
     "name": "stdout",
     "output_type": "stream",
     "text": [
      "\n",
      " [[ 1  2  3]\n",
      " [ 4  5  6]\n",
      " [ 7  8  9]\n",
      " [10 11 12]]\n",
      "\n",
      "The shape has changed: (4, 3)\n"
     ]
    }
   ],
   "source": [
    "w = np.append(y, [[10,11,12]], axis=0)\n",
    "print('\\n', w)\n",
    "print('\\nThe shape has changed:', w.shape)"
   ]
  },
  {
   "cell_type": "code",
   "execution_count": 200,
   "metadata": {},
   "outputs": [
    {
     "name": "stdout",
     "output_type": "stream",
     "text": [
      "\n",
      " [[ 1  2  3 10]\n",
      " [ 4  5  6 11]\n",
      " [ 7  8  9 12]]\n",
      "\n",
      "The shape has changed: (3, 4)\n"
     ]
    }
   ],
   "source": [
    "z = np.append(y, [[10],[11],[12]], axis=1)\n",
    "print('\\n', z)\n",
    "print('\\nThe shape has changed:', z.shape)"
   ]
  },
  {
   "cell_type": "code",
   "execution_count": 201,
   "metadata": {},
   "outputs": [
    {
     "name": "stdout",
     "output_type": "stream",
     "text": [
      "[1 2 5 6 7]\n"
     ]
    }
   ],
   "source": [
    "#insert values with insert function wich take an array, index, element and axis\n",
    "\n",
    "x = np.array([1,2,5,6,7])\n",
    "print(x)\n"
   ]
  },
  {
   "cell_type": "code",
   "execution_count": 202,
   "metadata": {},
   "outputs": [
    {
     "name": "stdout",
     "output_type": "stream",
     "text": [
      "[1 2 3 4 5 6 7]\n"
     ]
    }
   ],
   "source": [
    "#We are going to insert values 3 and four between 2 and 5.\n",
    "\n",
    "x = np.insert(x,2,[3,4])\n",
    "print(x)"
   ]
  },
  {
   "cell_type": "code",
   "execution_count": 203,
   "metadata": {},
   "outputs": [
    {
     "name": "stdout",
     "output_type": "stream",
     "text": [
      "[[1 2 3]\n",
      " [7 8 9]]\n"
     ]
    }
   ],
   "source": [
    "y = np.array([[1,2,3],[7,8,9]])\n",
    "print(y)"
   ]
  },
  {
   "cell_type": "code",
   "execution_count": 204,
   "metadata": {},
   "outputs": [
    {
     "name": "stdout",
     "output_type": "stream",
     "text": [
      "[[1 2 3]\n",
      " [4 5 6]\n",
      " [7 8 9]]\n"
     ]
    }
   ],
   "source": [
    "w = np.insert(y,1,[4,5,6], axis=0)\n",
    "print(w)"
   ]
  },
  {
   "cell_type": "code",
   "execution_count": 205,
   "metadata": {},
   "outputs": [
    {
     "name": "stdout",
     "output_type": "stream",
     "text": [
      "[[1 5 2 3]\n",
      " [7 5 8 9]]\n"
     ]
    }
   ],
   "source": [
    "z = np.insert(y,1,5, axis=1)\n",
    "print(z)"
   ]
  },
  {
   "cell_type": "code",
   "execution_count": 206,
   "metadata": {},
   "outputs": [
    {
     "name": "stdout",
     "output_type": "stream",
     "text": [
      "[1 2]\n"
     ]
    }
   ],
   "source": [
    "#do an arrays with other array\n",
    "x = np.array([1,2])\n",
    "print(x)"
   ]
  },
  {
   "cell_type": "code",
   "execution_count": 207,
   "metadata": {},
   "outputs": [
    {
     "name": "stdout",
     "output_type": "stream",
     "text": [
      "[[3 4]\n",
      " [5 6]]\n"
     ]
    }
   ],
   "source": [
    "y = np.array([[3,4], [5,6]])\n",
    "print(y)"
   ]
  },
  {
   "cell_type": "code",
   "execution_count": 208,
   "metadata": {},
   "outputs": [
    {
     "name": "stdout",
     "output_type": "stream",
     "text": [
      "[[1 2]\n",
      " [3 4]\n",
      " [5 6]]\n"
     ]
    }
   ],
   "source": [
    "z = np.vstack((x,y))\n",
    "print(z)"
   ]
  },
  {
   "cell_type": "code",
   "execution_count": 209,
   "metadata": {},
   "outputs": [
    {
     "name": "stdout",
     "output_type": "stream",
     "text": [
      "[[3 4 1]\n",
      " [5 6 2]]\n"
     ]
    }
   ],
   "source": [
    "w = np.hstack((y, x.reshape(2,1))) #we need to reshape X to match the shape of Y before stacking it horizontally.\n",
    "print(w)"
   ]
  },
  {
   "cell_type": "markdown",
   "metadata": {},
   "source": [
    "# Slicing ndarrays"
   ]
  },
  {
   "cell_type": "markdown",
   "metadata": {},
   "source": [
    "1. ndarray[start:end] #slicing from a starting index to an ending index\n",
    "2. ndarray[start:] #slicing from the start of index to the end of the array by living a blanck\n",
    "3. ndarray[:end] #slicing from the beginning of the array to an ending index, by living a blanck part before\n",
    "In the first and thrid methods, the ending index is always excluded.\n",
    "In the first and second methods, the start index is always included."
   ]
  },
  {
   "cell_type": "code",
   "execution_count": 228,
   "metadata": {},
   "outputs": [
    {
     "name": "stdout",
     "output_type": "stream",
     "text": [
      "[[ 1  2  3  4  5]\n",
      " [ 6  7  8  9 10]\n",
      " [11 12 13 14 15]\n",
      " [16 17 18 19 20]]\n"
     ]
    }
   ],
   "source": [
    "x = np.arange(1,21).reshape(4,5)\n",
    "print(x)"
   ]
  },
  {
   "cell_type": "code",
   "execution_count": 212,
   "metadata": {},
   "outputs": [
    {
     "name": "stdout",
     "output_type": "stream",
     "text": [
      "[[ 8  9 10]\n",
      " [13 14 15]\n",
      " [18 19 20]]\n"
     ]
    }
   ],
   "source": [
    "z = x[1:4, 2:5] #the first part is for the rows and the second part for the columns\n",
    "print(z)"
   ]
  },
  {
   "cell_type": "code",
   "execution_count": 213,
   "metadata": {},
   "outputs": [
    {
     "name": "stdout",
     "output_type": "stream",
     "text": [
      "[[ 8  9 10]\n",
      " [13 14 15]\n",
      " [18 19 20]]\n"
     ]
    }
   ],
   "source": [
    "z = x[1:, 2:] #we can omit the final part. If we do not mention it, it will simply go to the end automatically.\n",
    "print(z)"
   ]
  },
  {
   "cell_type": "code",
   "execution_count": 214,
   "metadata": {},
   "outputs": [
    {
     "name": "stdout",
     "output_type": "stream",
     "text": [
      "[[ 3  4  5]\n",
      " [ 8  9 10]\n",
      " [13 14 15]]\n"
     ]
    }
   ],
   "source": [
    "z = x[:3, 2:]\n",
    "print(z)"
   ]
  },
  {
   "cell_type": "code",
   "execution_count": 215,
   "metadata": {},
   "outputs": [
    {
     "name": "stdout",
     "output_type": "stream",
     "text": [
      "[ 3  8 13 18]\n"
     ]
    }
   ],
   "source": [
    "z = x[:, 2] #all the rows in column 2\n",
    "print(z)"
   ]
  },
  {
   "cell_type": "code",
   "execution_count": 216,
   "metadata": {},
   "outputs": [
    {
     "name": "stdout",
     "output_type": "stream",
     "text": [
      "[[ 3]\n",
      " [ 8]\n",
      " [13]\n",
      " [18]]\n"
     ]
    }
   ],
   "source": [
    "z = x[:, 2:3]\n",
    "print(z)"
   ]
  },
  {
   "cell_type": "code",
   "execution_count": 218,
   "metadata": {},
   "outputs": [
    {
     "name": "stdout",
     "output_type": "stream",
     "text": [
      "[[ 4]\n",
      " [ 9]\n",
      " [14]\n",
      " [19]]\n"
     ]
    }
   ],
   "source": [
    "z = x[:, 3:4]\n",
    "print(z)"
   ]
  },
  {
   "cell_type": "code",
   "execution_count": 219,
   "metadata": {},
   "outputs": [
    {
     "name": "stdout",
     "output_type": "stream",
     "text": [
      "[[ 5]\n",
      " [10]\n",
      " [15]\n",
      " [20]]\n"
     ]
    }
   ],
   "source": [
    "z = x[:, 4:5]\n",
    "print(z)"
   ]
  },
  {
   "cell_type": "code",
   "execution_count": 229,
   "metadata": {},
   "outputs": [
    {
     "name": "stdout",
     "output_type": "stream",
     "text": [
      "[[ 1  2  3  4  5]\n",
      " [ 6  7  8  9 10]\n",
      " [11 12 13 14 15]\n",
      " [16 17 18 19 20]]\n"
     ]
    }
   ],
   "source": [
    "print(x) #let´s see the diferent between see choises and making editions"
   ]
  },
  {
   "cell_type": "code",
   "execution_count": 230,
   "metadata": {},
   "outputs": [
    {
     "name": "stdout",
     "output_type": "stream",
     "text": [
      "[[ 8  9 10]\n",
      " [13 14 15]\n",
      " [18 19 20]]\n",
      "\n",
      " [[ 1  2  3  4  5]\n",
      " [ 6  7  8  9 10]\n",
      " [11 12 13 14 15]\n",
      " [16 17 18 19 20]]\n"
     ]
    }
   ],
   "source": [
    "z = x[1:, 2:] \n",
    "print(z) #here we are chousen\n",
    "print('\\n', x) # if we print x the output will still being x"
   ]
  },
  {
   "cell_type": "code",
   "execution_count": 231,
   "metadata": {},
   "outputs": [
    {
     "name": "stdout",
     "output_type": "stream",
     "text": [
      "[[  8   9  10]\n",
      " [ 13  14  15]\n",
      " [ 18  19 555]]\n"
     ]
    }
   ],
   "source": [
    "z[2,2] = 555 #here we are editing\n",
    "print(z)"
   ]
  },
  {
   "cell_type": "code",
   "execution_count": 232,
   "metadata": {},
   "outputs": [
    {
     "name": "stdout",
     "output_type": "stream",
     "text": [
      "[[  1   2   3   4   5]\n",
      " [  6   7   8   9  10]\n",
      " [ 11  12  13  14  15]\n",
      " [ 16  17  18  19 555]]\n"
     ]
    }
   ],
   "source": [
    "print(x)"
   ]
  },
  {
   "cell_type": "code",
   "execution_count": 233,
   "metadata": {},
   "outputs": [
    {
     "name": "stdout",
     "output_type": "stream",
     "text": [
      "[[ 0  1  2  3  4]\n",
      " [ 5  6  7  8  9]\n",
      " [10 11 12 13 14]\n",
      " [15 16 17 18 19]]\n"
     ]
    }
   ],
   "source": [
    "x = np.arange(20).reshape(4,5)\n",
    "print(x)"
   ]
  },
  {
   "cell_type": "code",
   "execution_count": 235,
   "metadata": {},
   "outputs": [
    {
     "name": "stdout",
     "output_type": "stream",
     "text": [
      "[[ 7  8  9]\n",
      " [12 13 14]\n",
      " [17 18 19]]\n"
     ]
    }
   ],
   "source": [
    "z = np.copy(x[1:,2:])\n",
    "print(z)"
   ]
  },
  {
   "cell_type": "code",
   "execution_count": 236,
   "metadata": {},
   "outputs": [
    {
     "name": "stdout",
     "output_type": "stream",
     "text": [
      "[[ 0  1  2  3  4]\n",
      " [ 5  6  7  8  9]\n",
      " [10 11 12 13 14]\n",
      " [15 16 17 18 19]]\n"
     ]
    }
   ],
   "source": [
    "print(x)"
   ]
  },
  {
   "cell_type": "markdown",
   "metadata": {},
   "source": [
    "*Lets create a rank one array that will serve as indices to select elements from x*"
   ]
  },
  {
   "cell_type": "code",
   "execution_count": 240,
   "metadata": {},
   "outputs": [
    {
     "name": "stdout",
     "output_type": "stream",
     "text": [
      "[1 3]\n"
     ]
    }
   ],
   "source": [
    "import numpy as np\n",
    "indices = np.array([1,3])\n",
    "print(indices)"
   ]
  },
  {
   "cell_type": "code",
   "execution_count": 241,
   "metadata": {},
   "outputs": [
    {
     "name": "stdout",
     "output_type": "stream",
     "text": [
      "[[ 5  6  7  8  9]\n",
      " [15 16 17 18 19]]\n"
     ]
    }
   ],
   "source": [
    "y = x [indices, :]\n",
    "print(y)"
   ]
  },
  {
   "cell_type": "code",
   "execution_count": 244,
   "metadata": {},
   "outputs": [
    {
     "name": "stdout",
     "output_type": "stream",
     "text": [
      "[[ 1  3]\n",
      " [ 6  8]\n",
      " [11 13]\n",
      " [16 18]]\n"
     ]
    }
   ],
   "source": [
    "z = x[:, indices]\n",
    "print(z)"
   ]
  },
  {
   "cell_type": "code",
   "execution_count": 245,
   "metadata": {},
   "outputs": [
    {
     "name": "stdout",
     "output_type": "stream",
     "text": [
      "[[ 0  1  2  3  4]\n",
      " [ 5  6  7  8  9]\n",
      " [10 11 12 13 14]\n",
      " [15 16 17 18 19]]\n"
     ]
    }
   ],
   "source": [
    "print(x)"
   ]
  },
  {
   "cell_type": "code",
   "execution_count": 243,
   "metadata": {},
   "outputs": [
    {
     "name": "stdout",
     "output_type": "stream",
     "text": [
      "[ 0  6 12 18]\n"
     ]
    }
   ],
   "source": [
    "z = np.diag(x)\n",
    "print(z)"
   ]
  },
  {
   "cell_type": "code",
   "execution_count": 246,
   "metadata": {},
   "outputs": [
    {
     "name": "stdout",
     "output_type": "stream",
     "text": [
      "[ 1  7 13 19]\n"
     ]
    }
   ],
   "source": [
    "z = np.diag(x, k=1)\n",
    "print(z)"
   ]
  },
  {
   "cell_type": "code",
   "execution_count": 247,
   "metadata": {},
   "outputs": [
    {
     "name": "stdout",
     "output_type": "stream",
     "text": [
      "[ 5 11 17]\n"
     ]
    }
   ],
   "source": [
    "z = np.diag(x, k=-1) #por defecto k es 0 por lo que k=1 va por encima de 0 y k=-1 por debajo de cero\n",
    "print(z)"
   ]
  },
  {
   "cell_type": "code",
   "execution_count": 251,
   "metadata": {},
   "outputs": [
    {
     "name": "stdout",
     "output_type": "stream",
     "text": [
      "[[1 2 3]\n",
      " [4 5 6]\n",
      " [1 2 3]]\n"
     ]
    }
   ],
   "source": [
    "#we can find the unique element in array by using numpy´s unique function\n",
    "x = np.array([[1,2,3], [4,5,6], [1,2,3]])\n",
    "print(x)"
   ]
  },
  {
   "cell_type": "code",
   "execution_count": 252,
   "metadata": {},
   "outputs": [
    {
     "name": "stdout",
     "output_type": "stream",
     "text": [
      "[1 2 3 4 5 6]\n"
     ]
    }
   ],
   "source": [
    "print(np.unique(x))"
   ]
  },
  {
   "cell_type": "markdown",
   "metadata": {},
   "source": [
    "# **Boolean Indexing, Set Operations, and Sorting**"
   ]
  },
  {
   "cell_type": "code",
   "execution_count": 2,
   "metadata": {},
   "outputs": [],
   "source": [
    "import numpy as np"
   ]
  },
  {
   "cell_type": "code",
   "execution_count": 3,
   "metadata": {},
   "outputs": [
    {
     "name": "stdout",
     "output_type": "stream",
     "text": [
      "[[ 0  1  2  3  4]\n",
      " [ 5  6  7  8  9]\n",
      " [10 11 12 13 14]\n",
      " [15 16 17 18 19]\n",
      " [20 21 22 23 24]]\n"
     ]
    }
   ],
   "source": [
    "x = np.arange(25).reshape(5,5)\n",
    "print(x)"
   ]
  },
  {
   "cell_type": "code",
   "execution_count": 5,
   "metadata": {},
   "outputs": [
    {
     "name": "stdout",
     "output_type": "stream",
     "text": [
      "[11 12 13 14 15 16 17 18 19 20 21 22 23 24]\n"
     ]
    }
   ],
   "source": [
    "#get elements higher than 10\n",
    "print(x[x>10])"
   ]
  },
  {
   "cell_type": "code",
   "execution_count": 8,
   "metadata": {},
   "outputs": [
    {
     "name": "stdout",
     "output_type": "stream",
     "text": [
      "[0 1 2 3 4 5 6 7]\n"
     ]
    }
   ],
   "source": [
    "#get elements less than or equal to 7\n",
    "print(x[x<=7])"
   ]
  },
  {
   "cell_type": "code",
   "execution_count": 12,
   "metadata": {},
   "outputs": [
    {
     "name": "stdout",
     "output_type": "stream",
     "text": [
      "[11 12 13 14 15 16]\n"
     ]
    }
   ],
   "source": [
    "#get elements greater than 7 and less than 17\n",
    "print(x[(x>10) & (x<17)])"
   ]
  },
  {
   "cell_type": "code",
   "execution_count": 13,
   "metadata": {},
   "outputs": [
    {
     "name": "stdout",
     "output_type": "stream",
     "text": [
      "[[ 0  1  2  3  4]\n",
      " [ 5  6  7  8  9]\n",
      " [10 -1 -1 -1 -1]\n",
      " [-1 -1 17 18 19]\n",
      " [20 21 22 23 24]]\n"
     ]
    }
   ],
   "source": [
    "#using boolena indexing to assign elements that are between 10 and 17 to the value of -1\n",
    "x[(x>10) & (x<17)] = -1\n",
    "print(x)"
   ]
  },
  {
   "cell_type": "code",
   "execution_count": 14,
   "metadata": {},
   "outputs": [
    {
     "name": "stdout",
     "output_type": "stream",
     "text": [
      "[2 4]\n",
      "[1 3 5]\n",
      "[1 2 3 4 5 6 7 8]\n"
     ]
    }
   ],
   "source": [
    "#find comun elements\n",
    "x = np.array([1,2,3,4,5])\n",
    "y = np.array([6,7,2,8,4])\n",
    "\n",
    "#we can create arrays for the intersection, difference and union\n",
    "\n",
    "print(np.intersect1d(x,y))\n",
    "print(np.setdiff1d(x,y))\n",
    "print(np.union1d(x,y))"
   ]
  },
  {
   "cell_type": "code",
   "execution_count": 15,
   "metadata": {},
   "outputs": [
    {
     "name": "stdout",
     "output_type": "stream",
     "text": [
      "[ 4  3  7  1 10  8 10  9  6  8]\n"
     ]
    }
   ],
   "source": [
    "#sorting an array using sort function to sort rank one and rank two array in diffent ways\n",
    "#the sort funtion can be used as a method, but there is a difference on how the data is stored in the memory in yhis case\n",
    "\n",
    "x = np.random.randint(1, 11, size=(10,))\n",
    "print(x)"
   ]
  },
  {
   "cell_type": "code",
   "execution_count": 17,
   "metadata": {},
   "outputs": [
    {
     "name": "stdout",
     "output_type": "stream",
     "text": [
      "[ 1  3  4  6  7  8  8  9 10 10]\n",
      "[ 4  3  7  1 10  8 10  9  6  8]\n"
     ]
    }
   ],
   "source": [
    "print(np.sort(x)) #we can sort using sort as a function\n",
    "print(x)"
   ]
  },
  {
   "cell_type": "code",
   "execution_count": 18,
   "metadata": {},
   "outputs": [
    {
     "name": "stdout",
     "output_type": "stream",
     "text": [
      "[ 1  3  4  6  7  8  9 10]\n",
      "[ 4  3  7  1 10  8 10  9  6  8]\n"
     ]
    }
   ],
   "source": [
    "print(np.sort(np.unique(x)))\n",
    "print(x)"
   ]
  },
  {
   "cell_type": "code",
   "execution_count": 19,
   "metadata": {},
   "outputs": [
    {
     "name": "stdout",
     "output_type": "stream",
     "text": [
      "[ 1  3  4  6  7  8  8  9 10 10]\n"
     ]
    }
   ],
   "source": [
    "x.sort()\n",
    "print(x)"
   ]
  },
  {
   "cell_type": "code",
   "execution_count": 20,
   "metadata": {},
   "outputs": [
    {
     "name": "stdout",
     "output_type": "stream",
     "text": [
      "[[ 5  1  4  1  2]\n",
      " [ 2  3  3  6  4]\n",
      " [ 4  9  1  8  3]\n",
      " [ 2  5  4 10  1]\n",
      " [ 1  8  4  2  8]]\n"
     ]
    }
   ],
   "source": [
    "x = np.random.randint(1, 11, size=(5,5))\n",
    "print(x)"
   ]
  },
  {
   "cell_type": "code",
   "execution_count": 22,
   "metadata": {},
   "outputs": [
    {
     "name": "stdout",
     "output_type": "stream",
     "text": [
      "[[ 1  1  1  1  1]\n",
      " [ 2  3  3  2  2]\n",
      " [ 2  5  4  6  3]\n",
      " [ 4  8  4  8  4]\n",
      " [ 5  9  4 10  8]]\n"
     ]
    }
   ],
   "source": [
    "print(np.sort(x, axis=0))"
   ]
  },
  {
   "cell_type": "code",
   "execution_count": 23,
   "metadata": {},
   "outputs": [
    {
     "name": "stdout",
     "output_type": "stream",
     "text": [
      "[[ 1  1  2  4  5]\n",
      " [ 2  3  3  4  6]\n",
      " [ 1  3  4  8  9]\n",
      " [ 1  2  4  5 10]\n",
      " [ 1  2  4  8  8]]\n"
     ]
    }
   ],
   "source": [
    "print(np.sort(x, axis=1))  #columns"
   ]
  },
  {
   "cell_type": "markdown",
   "metadata": {},
   "source": [
    "#### QUIZ:"
   ]
  },
  {
   "cell_type": "code",
   "execution_count": 30,
   "metadata": {},
   "outputs": [
    {
     "name": "stdout",
     "output_type": "stream",
     "text": [
      "[[ 5  1  4  1  2]\n",
      " [ 2  3  3  6  4]\n",
      " [ 4  9  1  8  3]\n",
      " [ 2  5  4 10  1]\n",
      " [ 1  8  4  2  8]]\n",
      "\n",
      " [6 7 2 8 4]\n"
     ]
    }
   ],
   "source": [
    "# Create a 5 x 5 ndarray with consecutive integers from 1 to 25 (inclusive).\n",
    "import numpy as np\n",
    "X = np.arange(1,26).reshape(5,5)\n",
    "\n",
    "# Use Boolean indexing to pick out only the odd numbers in the array\n",
    "Y = X[X % 2 != 0]\n",
    "\n",
    "print(x)\n",
    "print('\\n',y)"
   ]
  },
  {
   "cell_type": "markdown",
   "metadata": {},
   "source": [
    "# Arithmetic operations and Broadcasting:"
   ]
  },
  {
   "cell_type": "code",
   "execution_count": 31,
   "metadata": {},
   "outputs": [
    {
     "name": "stdout",
     "output_type": "stream",
     "text": [
      "[1 2 3 4]\n",
      "[5 6 7 8]\n"
     ]
    }
   ],
   "source": [
    "x = np.array([1,2,3,4])\n",
    "y = np.array([5,6,7,8])\n",
    "print(x)\n",
    "print(y)"
   ]
  },
  {
   "cell_type": "code",
   "execution_count": 36,
   "metadata": {},
   "outputs": [
    {
     "name": "stdout",
     "output_type": "stream",
     "text": [
      "[ 6  8 10 12]\n",
      "[ 6  8 10 12]\n",
      "\n",
      "We see the same result\n"
     ]
    }
   ],
   "source": [
    "print(x + y)\n",
    "print(np.add(x,y)) \n",
    "print('\\nWe see the same result')"
   ]
  },
  {
   "cell_type": "code",
   "execution_count": 37,
   "metadata": {},
   "outputs": [
    {
     "name": "stdout",
     "output_type": "stream",
     "text": [
      "[-4 -4 -4 -4]\n",
      "[-4 -4 -4 -4]\n",
      "[ 5 12 21 32]\n",
      "[ 5 12 21 32]\n",
      "[0.2        0.33333333 0.42857143 0.5       ]\n",
      "[0.2        0.33333333 0.42857143 0.5       ]\n"
     ]
    }
   ],
   "source": [
    "#Lets also try element-wise substraction, multiplication and division\n",
    "print(x - y)\n",
    "print(np.subtract(x,y))\n",
    "print(x * y)\n",
    "print(np.multiply(x,y))\n",
    "print(x / y)\n",
    "print(np.divide(x,y))"
   ]
  },
  {
   "cell_type": "code",
   "execution_count": 38,
   "metadata": {},
   "outputs": [],
   "source": [
    "#To do this we have to be sure that the arrays hava the same shape or be broadcastable!!!"
   ]
  },
  {
   "cell_type": "code",
   "execution_count": 39,
   "metadata": {},
   "outputs": [
    {
     "name": "stdout",
     "output_type": "stream",
     "text": [
      "[[1 2]\n",
      " [3 4]]\n"
     ]
    }
   ],
   "source": [
    "x = np.array([1,2,3,4]).reshape(2,2)\n",
    "print(x)"
   ]
  },
  {
   "cell_type": "code",
   "execution_count": 40,
   "metadata": {},
   "outputs": [
    {
     "name": "stdout",
     "output_type": "stream",
     "text": [
      "[[5 6]\n",
      " [7 8]]\n"
     ]
    }
   ],
   "source": [
    "y = np.array([5,6,7,8]).reshape(2,2)\n",
    "print(y)"
   ]
  },
  {
   "cell_type": "code",
   "execution_count": 42,
   "metadata": {},
   "outputs": [],
   "source": [
    "#Lets do the same operation that before using ths symbol notation"
   ]
  },
  {
   "cell_type": "code",
   "execution_count": 47,
   "metadata": {},
   "outputs": [
    {
     "name": "stdout",
     "output_type": "stream",
     "text": [
      "[[ 6  8]\n",
      " [10 12]] sum\n",
      "[[-4 -4]\n",
      " [-4 -4]] subt\n",
      "[[ 5 12]\n",
      " [21 32]] multi\n",
      "[[0.2        0.33333333]\n",
      " [0.42857143 0.5       ]] divi\n"
     ]
    }
   ],
   "source": [
    "print(x + y, 'sum') #sum\n",
    "print(x - y, 'subt') #subt\n",
    "print(x * y, 'multi') #multi\n",
    "print(x / y, 'divi') #divi\n"
   ]
  },
  {
   "cell_type": "code",
   "execution_count": 49,
   "metadata": {},
   "outputs": [
    {
     "name": "stdout",
     "output_type": "stream",
     "text": [
      "[1 2 3 4]\n"
     ]
    }
   ],
   "source": [
    "x = np.array([1,2,3,4])\n",
    "print(x)"
   ]
  },
  {
   "cell_type": "code",
   "execution_count": 51,
   "metadata": {},
   "outputs": [
    {
     "name": "stdout",
     "output_type": "stream",
     "text": [
      "[1.         1.41421356 1.73205081 2.        ]\n"
     ]
    }
   ],
   "source": [
    "#we can get the square root of each element like this\n",
    "print(np.sqrt(x))"
   ]
  },
  {
   "cell_type": "code",
   "execution_count": 52,
   "metadata": {},
   "outputs": [
    {
     "name": "stdout",
     "output_type": "stream",
     "text": [
      "[ 2.71828183  7.3890561  20.08553692 54.59815003]\n"
     ]
    }
   ],
   "source": [
    "#and the exponential os each like this\n",
    "print(np.exp(x))"
   ]
  },
  {
   "cell_type": "code",
   "execution_count": 53,
   "metadata": {},
   "outputs": [
    {
     "name": "stdout",
     "output_type": "stream",
     "text": [
      "[ 1  4  9 16]\n"
     ]
    }
   ],
   "source": [
    "#ans also each element to the power of two\n",
    "print(np.power(x,2))"
   ]
  },
  {
   "cell_type": "markdown",
   "metadata": {},
   "source": [
    "##### Statitical functions"
   ]
  },
  {
   "cell_type": "code",
   "execution_count": 54,
   "metadata": {},
   "outputs": [
    {
     "name": "stdout",
     "output_type": "stream",
     "text": [
      "[[1 2]\n",
      " [3 4]]\n"
     ]
    }
   ],
   "source": [
    "x = np.array([1,2,3,4]).reshape(2,2)\n",
    "print(x)"
   ]
  },
  {
   "cell_type": "code",
   "execution_count": 55,
   "metadata": {},
   "outputs": [
    {
     "name": "stdout",
     "output_type": "stream",
     "text": [
      "average of all: 2.5\n"
     ]
    }
   ],
   "source": [
    "#average of all\n",
    "print('average of all:', x.mean())"
   ]
  },
  {
   "cell_type": "code",
   "execution_count": 59,
   "metadata": {},
   "outputs": [
    {
     "name": "stdout",
     "output_type": "stream",
     "text": [
      "average of columns: [2. 3.]\n",
      "average of rows: [1.5 3.5]\n"
     ]
    }
   ],
   "source": [
    "#average of individual rows and columns\n",
    "print('average of columns:', x.mean(axis=0))\n",
    "print('average of rows:', x.mean(axis=1))"
   ]
  },
  {
   "cell_type": "code",
   "execution_count": 60,
   "metadata": {},
   "outputs": [
    {
     "name": "stdout",
     "output_type": "stream",
     "text": [
      "sum of all: 10\n",
      "sum of columns: [4 6]\n",
      "sum of rows: [3 7]\n"
     ]
    }
   ],
   "source": [
    "#sum\n",
    "print('sum of all:', x.sum())\n",
    "print('sum of columns:', x.sum(axis=0))\n",
    "print('sum of rows:', x.sum(axis=1))"
   ]
  },
  {
   "cell_type": "code",
   "execution_count": 61,
   "metadata": {},
   "outputs": [
    {
     "data": {
      "text/plain": [
       "1.118033988749895"
      ]
     },
     "execution_count": 61,
     "metadata": {},
     "output_type": "execute_result"
    }
   ],
   "source": [
    "#standart de deviation\n",
    "x.std()"
   ]
  },
  {
   "cell_type": "code",
   "execution_count": 62,
   "metadata": {},
   "outputs": [
    {
     "data": {
      "text/plain": [
       "2.5"
      ]
     },
     "execution_count": 62,
     "metadata": {},
     "output_type": "execute_result"
    }
   ],
   "source": [
    "#median\n",
    "np.median(x)"
   ]
  },
  {
   "cell_type": "code",
   "execution_count": 63,
   "metadata": {},
   "outputs": [
    {
     "data": {
      "text/plain": [
       "4"
      ]
     },
     "execution_count": 63,
     "metadata": {},
     "output_type": "execute_result"
    }
   ],
   "source": [
    "#maximun\n",
    "x.max()"
   ]
  },
  {
   "cell_type": "code",
   "execution_count": 64,
   "metadata": {},
   "outputs": [
    {
     "data": {
      "text/plain": [
       "1"
      ]
     },
     "execution_count": 64,
     "metadata": {},
     "output_type": "execute_result"
    }
   ],
   "source": [
    "#minimun\n",
    "x.min()"
   ]
  },
  {
   "cell_type": "code",
   "execution_count": 66,
   "metadata": {},
   "outputs": [
    {
     "name": "stdout",
     "output_type": "stream",
     "text": [
      "[[1 2]\n",
      " [3 4]]\n"
     ]
    }
   ],
   "source": [
    "#add single numbers to al the elementes of a NumPy array without the use of complicated loops\n",
    "print(x)"
   ]
  },
  {
   "cell_type": "code",
   "execution_count": 67,
   "metadata": {},
   "outputs": [
    {
     "name": "stdout",
     "output_type": "stream",
     "text": [
      "[[4 5]\n",
      " [6 7]]\n"
     ]
    }
   ],
   "source": [
    "#add 3 to each element\n",
    "print(3 + x)"
   ]
  },
  {
   "cell_type": "code",
   "execution_count": 72,
   "metadata": {},
   "outputs": [
    {
     "name": "stdout",
     "output_type": "stream",
     "text": [
      "[[-2 -1]\n",
      " [ 0  1]]\n"
     ]
    }
   ],
   "source": [
    "#subtrac 3 to each\n",
    "print(x - 3)"
   ]
  },
  {
   "cell_type": "code",
   "execution_count": 73,
   "metadata": {},
   "outputs": [
    {
     "name": "stdout",
     "output_type": "stream",
     "text": [
      "[[ 3  6]\n",
      " [ 9 12]]\n"
     ]
    }
   ],
   "source": [
    "#multiply each by 3\n",
    "print(x * 3)"
   ]
  },
  {
   "cell_type": "code",
   "execution_count": 74,
   "metadata": {},
   "outputs": [
    {
     "name": "stdout",
     "output_type": "stream",
     "text": [
      "[[0.33333333 0.66666667]\n",
      " [1.         1.33333333]]\n"
     ]
    }
   ],
   "source": [
    "#divide each by 3\n",
    "print(x / 3)"
   ]
  },
  {
   "cell_type": "code",
   "execution_count": 76,
   "metadata": {},
   "outputs": [
    {
     "name": "stdout",
     "output_type": "stream",
     "text": [
      "[[0 1 2]\n",
      " [3 4 5]\n",
      " [6 7 8]]\n"
     ]
    }
   ],
   "source": [
    "y = np.arange(9).reshape(3,3)\n",
    "print(y)"
   ]
  },
  {
   "cell_type": "code",
   "execution_count": 78,
   "metadata": {},
   "outputs": [
    {
     "name": "stdout",
     "output_type": "stream",
     "text": [
      "[0 1 2]\n"
     ]
    }
   ],
   "source": [
    "x = np.arange(3)\n",
    "print(x)"
   ]
  },
  {
   "cell_type": "code",
   "execution_count": 80,
   "metadata": {},
   "outputs": [
    {
     "name": "stdout",
     "output_type": "stream",
     "text": [
      "[[ 0  2  4]\n",
      " [ 3  5  7]\n",
      " [ 6  8 10]]\n"
     ]
    }
   ],
   "source": [
    "print(y + x) #add zero to the first colum, 1 to the second and 2 to the third"
   ]
  },
  {
   "cell_type": "code",
   "execution_count": 82,
   "metadata": {},
   "outputs": [
    {
     "name": "stdout",
     "output_type": "stream",
     "text": [
      "[[0]\n",
      " [1]\n",
      " [2]]\n"
     ]
    }
   ],
   "source": [
    "z = np.arange(3).reshape(3,1)\n",
    "print(z)"
   ]
  },
  {
   "cell_type": "code",
   "execution_count": 83,
   "metadata": {},
   "outputs": [
    {
     "name": "stdout",
     "output_type": "stream",
     "text": [
      "[[ 0  1  2]\n",
      " [ 4  5  6]\n",
      " [ 8  9 10]]\n"
     ]
    }
   ],
   "source": [
    "print(z + y) #add zero to the firt arrow,  1 to the second and 2 to the third"
   ]
  },
  {
   "cell_type": "markdown",
   "metadata": {},
   "source": [
    "#### QUIZ:"
   ]
  },
  {
   "cell_type": "code",
   "execution_count": 84,
   "metadata": {},
   "outputs": [
    {
     "name": "stdout",
     "output_type": "stream",
     "text": [
      "[[1. 2. 3. 4.]\n",
      " [1. 2. 3. 4.]\n",
      " [1. 2. 3. 4.]\n",
      " [1. 2. 3. 4.]]\n"
     ]
    }
   ],
   "source": [
    "import numpy as np\n",
    "\n",
    "# Use Broadcasting to create a 4 x 4 ndarray that has its first\n",
    "# column full of 1s, its second column full of 2s, its third\n",
    "# column full of 3s, etc.. \n",
    "\n",
    "x =  np.ones((4,4)) * np.arange(1,5)\n",
    "print(x)"
   ]
  },
  {
   "cell_type": "code",
   "execution_count": null,
   "metadata": {},
   "outputs": [],
   "source": []
  }
 ],
 "metadata": {
  "kernelspec": {
   "display_name": "Python [default]",
   "language": "python",
   "name": "python3"
  },
  "language_info": {
   "codemirror_mode": {
    "name": "ipython",
    "version": 3
   },
   "file_extension": ".py",
   "mimetype": "text/x-python",
   "name": "python",
   "nbconvert_exporter": "python",
   "pygments_lexer": "ipython3",
   "version": "3.6.6"
  }
 },
 "nbformat": 4,
 "nbformat_minor": 2
}

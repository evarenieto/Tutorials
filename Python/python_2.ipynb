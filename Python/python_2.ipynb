{
 "cells": [
  {
   "cell_type": "markdown",
   "metadata": {},
   "source": [
    "# Function Junction\n"
   ]
  },
  {
   "cell_type": "markdown",
   "metadata": {},
   "source": [
    "Functions are defined with three components:\n",
    "\n",
    "The header, which includes the def keyword, the name of the function, \n",
    "and any parameters the function requires. Here's an example:"
   ]
  },
  {
   "cell_type": "code",
   "execution_count": null,
   "metadata": {},
   "outputs": [],
   "source": [
    "def hello_world(): # There are no parameters"
   ]
  },
  {
   "cell_type": "markdown",
   "metadata": {},
   "source": [
    "An optional comment that explains what the function does.\n",
    "\n",
    "**\"\"\"Prints 'Hello World!' to the console.\"\"\"**\n",
    "The body, which describes the procedures the function carries out. The body is indented, just like conditional statements."
   ]
  },
  {
   "cell_type": "code",
   "execution_count": null,
   "metadata": {},
   "outputs": [],
   "source": [
    "print \"Hello World!\""
   ]
  },
  {
   "cell_type": "markdown",
   "metadata": {},
   "source": [
    "Here's the full function pieced together:"
   ]
  },
  {
   "cell_type": "code",
   "execution_count": null,
   "metadata": {},
   "outputs": [],
   "source": [
    "def hello_world():\n",
    "  \"\"\"Prints 'Hello World!' to the console.\"\"\"\n",
    "  print ('Hello World!')"
   ]
  },
  {
   "cell_type": "code",
   "execution_count": 3,
   "metadata": {},
   "outputs": [],
   "source": [
    "def spam():\n",
    "  \"\"\"me duele el culo\"\"\"\n",
    "  print('Eggs!')"
   ]
  },
  {
   "cell_type": "code",
   "execution_count": 5,
   "metadata": {},
   "outputs": [
    {
     "name": "stdout",
     "output_type": "stream",
     "text": [
      "Eggs!\n"
     ]
    }
   ],
   "source": [
    "spam()"
   ]
  },
  {
   "cell_type": "markdown",
   "metadata": {},
   "source": [
    "# Call and Response\n"
   ]
  },
  {
   "cell_type": "markdown",
   "metadata": {},
   "source": [
    "After defining a function, it must be called to be implemented. \n",
    "In the previous exercise, spam() in the last line told the program to look for the function called spam and \n",
    "execute the code inside it."
   ]
  },
  {
   "cell_type": "code",
   "execution_count": 7,
   "metadata": {},
   "outputs": [
    {
     "name": "stdout",
     "output_type": "stream",
     "text": [
      "37 to the power of 4 is 1874161.\n"
     ]
    }
   ],
   "source": [
    "def power(base, exponent):  # Add your parameters here!\n",
    "  result = base ** exponent\n",
    "  print (\"%d to the power of %d is %d.\" % (base, exponent, result)\n",
    ")\n",
    "power(37, 4)  # Add your arguments here!"
   ]
  },
  {
   "cell_type": "markdown",
   "metadata": {},
   "source": [
    "First, def a function called cube that takes an argument called number. Don't forget the parentheses and the colon!\n",
    "\n",
    "Make that function return the cube of that number (i.e. that number multiplied by itself and multiplied by itself once again).\n",
    "\n",
    "Define a second function called by_three that takes an argument called number.\n",
    "\n",
    "if that number is divisible by 3, by_three should call cube(number) and return its result. Otherwise, by_three should return False.\n",
    "\n",
    "Don't forget that if and else statements need a : at the end of that line!"
   ]
  },
  {
   "cell_type": "code",
   "execution_count": 8,
   "metadata": {},
   "outputs": [],
   "source": [
    "def cube(number):\n",
    "  return number * number * number\n",
    "\n",
    "def by_three(number):\n",
    "  if number %3 == 0:\n",
    "    return (cube(number))\n",
    "  else:\n",
    "    return (False)"
   ]
  },
  {
   "cell_type": "markdown",
   "metadata": {},
   "source": [
    "First, def a function, shut_down, that takes one argument s. Don't forget the parentheses or the colon!\n",
    "\n",
    "Then, if the shut_down function receives an s equal to \"yes\", it should return \"Shutting down\"\n",
    "\n",
    "Alternatively, elif s is equal to \"no\", then the function should return \"Shutdown aborted\".\n",
    "\n",
    "Finally, if shut_down gets anything other than those inputs, the function should return \"Sorry\""
   ]
  },
  {
   "cell_type": "code",
   "execution_count": 9,
   "metadata": {},
   "outputs": [],
   "source": [
    "def shut_down(s):\n",
    "  if s == \"yes\":\n",
    "    return \"Shutting down\"\n",
    "  elif s == \"no\":\n",
    "    return \"Shutdown aborted\"\n",
    "  else:\n",
    "    return \"Sorry\""
   ]
  },
  {
   "cell_type": "markdown",
   "metadata": {},
   "source": [
    "First, def a function called distance_from_zero, with one argument (choose any argument name you like).\n",
    "\n",
    "If the type of the argument is either int or float, the function should return the absolute value of the function input.\n",
    "\n",
    "Otherwise, the function should return \"Nope\""
   ]
  },
  {
   "cell_type": "code",
   "execution_count": 10,
   "metadata": {},
   "outputs": [],
   "source": [
    "def distance_from_zero(num):\n",
    "  if type(num) == int or type(num) == float:\n",
    "    return abs(num)\n",
    "  else:\n",
    "    return \"Nope\""
   ]
  },
  {
   "cell_type": "markdown",
   "metadata": {},
   "source": [
    "Below your existing code, define a function called rental_car_cost with an argument called days.\n",
    "\n",
    "Calculate the cost of renting the car:\n",
    "\n",
    "Every day you rent the car costs $40.\n",
    "if you rent the car for 7 or more days, you get $50 off your total.\n",
    "Alternatively (elif), if you rent the car for 3 or more days, you get $20 off your total.\n",
    "You cannot get both of the above discounts.\n",
    "Return that cost.\n",
    "\n",
    "Just like in the example above, this check becomes simpler if you make the 7-day check an if statement and the 3-day check an elif statement."
   ]
  },
  {
   "cell_type": "code",
   "execution_count": 11,
   "metadata": {},
   "outputs": [],
   "source": [
    "def hotel_cost(nights):\n",
    "  return 140 * nights\n",
    "\n",
    "def plane_ride_cost(city):\n",
    "  if city == \"Charlotte\":\n",
    "    return 183\n",
    "  elif city == \"Tampa\":\n",
    "    return 220\n",
    "  elif city == \"Pittsburgh\":\n",
    "    return 222\n",
    "  elif city == \"Los Angeles\":\n",
    "    return 475\n",
    "#TODO\n",
    "def rental_car_cost(days):\n",
    "  cost = days * 40\n",
    "  if days >= 7:\n",
    "    cost -= 50\n",
    "  elif days >= 3:\n",
    "    cost -= 20\n",
    "  return cost"
   ]
  },
  {
   "cell_type": "markdown",
   "metadata": {},
   "source": [
    "Below your existing code, define a function called trip_cost that takes two parameters, city and days and returns the sum of calling the rental_car_cost(days), hotel_cost(days - 1), and plane_ride_cost(city) functions.\n",
    "\n",
    "Notice that we changed the argument of hotel_costs() from nights to days - 1. Since we want trip-cost to only depend on two parameters, we have to convert the variable nights into days. If you are going to be staying somewhere, the number of nights you stay there is one less than the number of days you were there (imagine a weekend trip to visit family, you leave Saturday and return Sunday, so you visit for two days, but only stay for one night)."
   ]
  },
  {
   "cell_type": "code",
   "execution_count": 12,
   "metadata": {},
   "outputs": [],
   "source": [
    "def hotel_cost(nights):\n",
    "  return 140 * nights\n",
    "\n",
    "def plane_ride_cost(city):\n",
    "  if city == \"Charlotte\":\n",
    "    return 183\n",
    "  elif city == \"Tampa\":\n",
    "    return 220\n",
    "  elif city == \"Pittsburgh\":\n",
    "    return 222\n",
    "  elif city == \"Los Angeles\":\n",
    "    return 475\n",
    "\n",
    "def rental_car_cost(days):\n",
    "  cost = days * 40\n",
    "  if days >= 7:\n",
    "    cost -= 50\n",
    "  elif days >= 3:\n",
    "    cost -= 20\n",
    "  return cost\n",
    "\n",
    "def trip_cost(city, days):\n",
    "  return rental_car_cost(days) + hotel_cost(days - 1) + plane_ride_cost(city)"
   ]
  },
  {
   "cell_type": "markdown",
   "metadata": {},
   "source": [
    "Modify your trip_cost function definition. Add a third argument, spending_money.\n",
    "\n",
    "Modify what the trip_cost function does. Add the variable spending_money to the sum that it returns."
   ]
  },
  {
   "cell_type": "code",
   "execution_count": 13,
   "metadata": {},
   "outputs": [],
   "source": [
    "def trip_cost(city, days, spending_money):\n",
    "  return rental_car_cost(days) + hotel_cost(days - 1) + plane_ride_cost(city) + spending_money"
   ]
  },
  {
   "cell_type": "markdown",
   "metadata": {},
   "source": [
    "After your previous code, print out the trip_cost( to \"Los Angeles\" for 5 days with an extra 600 dollars of spending money.\n",
    "\n",
    "Don't forget the closing ) after passing in the 3 previous values!"
   ]
  },
  {
   "cell_type": "code",
   "execution_count": 15,
   "metadata": {},
   "outputs": [
    {
     "name": "stdout",
     "output_type": "stream",
     "text": [
      "1815\n"
     ]
    }
   ],
   "source": [
    "def hotel_cost(nights):\n",
    "  return 140 * nights\n",
    "\n",
    "def plane_ride_cost(city):\n",
    "  if city == \"Charlotte\":\n",
    "    return 183\n",
    "  elif city == \"Tampa\":\n",
    "    return 220\n",
    "  elif city == \"Pittsburgh\":\n",
    "    return 222\n",
    "  elif city == \"Los Angeles\":\n",
    "    return 475\n",
    "\n",
    "def rental_car_cost(days):\n",
    "  cost = days * 40\n",
    "  if days >= 7:\n",
    "    cost -= 50\n",
    "  elif days >= 3:\n",
    "    cost -= 20\n",
    "  return cost\n",
    "\n",
    "def trip_cost(city, days, spending_money):\n",
    "  return rental_car_cost(days) + hotel_cost(days - 1) + plane_ride_cost(city) + spending_money\n",
    "\n",
    "print (trip_cost('Los Angeles', 5, 600))"
   ]
  },
  {
   "cell_type": "markdown",
   "metadata": {},
   "source": [
    "# LIST"
   ]
  },
  {
   "cell_type": "code",
   "execution_count": 16,
   "metadata": {},
   "outputs": [],
   "source": [
    "zoo_animals = [\"pangolin\", \"cassowary\", \"sloth\", \"tiger\"]\n",
    "# Last night our zoo's sloth brutally attacked \n",
    "# the poor tiger and ate it whole.\n",
    "\n",
    "# The ferocious sloth has been replaced by a friendly hyena.\n",
    "zoo_animals[2] = \"hyena\"\n",
    "\n",
    "# What shall fill the void left by our dear departed tiger?\n",
    "# Your code here!\n",
    "zoo_animals[3] = \"dog\""
   ]
  },
  {
   "cell_type": "code",
   "execution_count": 17,
   "metadata": {},
   "outputs": [
    {
     "name": "stdout",
     "output_type": "stream",
     "text": [
      "['pangolin', 'cassowary', 'hyena', 'dog']\n"
     ]
    }
   ],
   "source": [
    "print(zoo_animals)"
   ]
  },
  {
   "cell_type": "code",
   "execution_count": 19,
   "metadata": {},
   "outputs": [
    {
     "name": "stdout",
     "output_type": "stream",
     "text": [
      "There are 4 items in the suitcase.\n",
      "['sunglasses', 'shoes', 'gloves', 'shoks']\n"
     ]
    }
   ],
   "source": [
    "suitcase = [] \n",
    "suitcase.append(\"sunglasses\")\n",
    "\n",
    "# Your code here!\n",
    "suitcase.append(\"shoes\")\n",
    "suitcase.append(\"gloves\")\n",
    "suitcase.append(\"shoks\")\n",
    "\n",
    "\n",
    "\n",
    "list_length = len(suitcase) # Set this to the length of suitcase\n",
    "\n",
    "print (\"There are %d items in the suitcase.\" % (list_length))\n",
    "print (suitcase)"
   ]
  },
  {
   "cell_type": "markdown",
   "metadata": {},
   "source": [
    "Use the .index(item) function to find the index of \"duck\". Assign that result to a variable called duck_index.\n",
    "\n",
    "Then .insert(index, item) the string \"cobra\" at that index."
   ]
  },
  {
   "cell_type": "code",
   "execution_count": 21,
   "metadata": {},
   "outputs": [
    {
     "name": "stdout",
     "output_type": "stream",
     "text": [
      "['aardvark', 'badger', 'cobra', 'duck', 'emu', 'fennec fox']\n"
     ]
    }
   ],
   "source": [
    "animals = [\"aardvark\", \"badger\", \"duck\", \"emu\", \"fennec fox\"]\n",
    "duck_index = animals.index(\"duck\")# Use index() to find \"duck\"\n",
    "\n",
    "# Your code here!\n",
    "animals.insert(duck_index,\"cobra\")\n",
    "\n",
    "print (animals) # Observe what prints after the insert operation"
   ]
  },
  {
   "cell_type": "markdown",
   "metadata": {},
   "source": [
    "Write a statement in the indented part of the for-loop that prints a number equal to 2 * number for every list item."
   ]
  },
  {
   "cell_type": "code",
   "execution_count": 23,
   "metadata": {},
   "outputs": [
    {
     "name": "stdout",
     "output_type": "stream",
     "text": [
      "2\n",
      "18\n",
      "6\n",
      "16\n",
      "10\n",
      "14\n"
     ]
    }
   ],
   "source": [
    "my_list = [1,9,3,8,5,7]\n",
    "\n",
    "for number in my_list:\n",
    "  # Your code here\n",
    "  print (2 * number)"
   ]
  },
  {
   "cell_type": "markdown",
   "metadata": {},
   "source": [
    "# DICCIONARY"
   ]
  },
  {
   "cell_type": "markdown",
   "metadata": {},
   "source": [
    "Add at least three more key-value pairs to the menu variable, with the dish name (as a \"string\") for the key and the price (a float or integer) as the value."
   ]
  },
  {
   "cell_type": "code",
   "execution_count": 27,
   "metadata": {},
   "outputs": [
    {
     "name": "stdout",
     "output_type": "stream",
     "text": [
      "14.5\n",
      "There are 3 items on the menu.\n",
      "{'Chicken Alfredo': 14.5, 'Indian cheese': 12.5, 'Milky beef': 9.8}\n"
     ]
    }
   ],
   "source": [
    "menu = {} # Empty dictionary\n",
    "menu['Chicken Alfredo'] = 14.50 # Adding new key-value pair\n",
    "print (menu['Chicken Alfredo'])\n",
    "\n",
    "# Your code here: Add some dish-price pairs to menu!\n",
    "menu['Indian cheese'] = 12.50\n",
    "menu['Milky beef'] = 9.80\n",
    "\n",
    "\n",
    "\n",
    "print(\"There are \" + str(len(menu)) + \" items on the menu.\")\n",
    "print(menu)"
   ]
  },
  {
   "cell_type": "markdown",
   "metadata": {},
   "source": [
    "Because dictionaries are mutable, they can be changed in many ways. Items can be removed from a dictionary with the del command:\n"
   ]
  },
  {
   "cell_type": "code",
   "execution_count": null,
   "metadata": {},
   "outputs": [],
   "source": [
    "del dict_name[key_name]"
   ]
  },
  {
   "cell_type": "markdown",
   "metadata": {},
   "source": [
    "will remove the key key_name and its associated value from the dictionary.\n",
    "\n",
    "A new value can be associated with a key by assigning a value to the key, like so:\n"
   ]
  },
  {
   "cell_type": "code",
   "execution_count": 2,
   "metadata": {},
   "outputs": [],
   "source": [
    "dict_name[key] = new_value"
   ]
  },
  {
   "cell_type": "markdown",
   "metadata": {},
   "source": [
    "Delete the 'Sloth' and 'Bengal Tiger' items from zoo_animals using del.\n",
    "\n",
    "Set the value associated with 'Rockhopper Penguin' to anything other than 'Arctic Exhibit'."
   ]
  },
  {
   "cell_type": "code",
   "execution_count": 6,
   "metadata": {},
   "outputs": [
    {
     "name": "stdout",
     "output_type": "stream",
     "text": [
      "{'Atlantic Puffin': 'Arctic Exhibit', 'Rockhopper Penguin': 'oso'}\n"
     ]
    }
   ],
   "source": [
    "#key - animal_name : value - location \n",
    "zoo_animals = { 'Unicorn' : 'Cotton Candy House',\n",
    "'Sloth' : 'Rainforest Exhibit',\n",
    "'Bengal Tiger' : 'Jungle House',\n",
    "'Atlantic Puffin' : 'Arctic Exhibit',\n",
    "'Rockhopper Penguin' : 'Arctic Exhibit'}\n",
    "# A dictionary (or list) declaration may break across multiple lines\n",
    "\n",
    "# Removing the 'Unicorn' entry. (Unicorns are incredibly expensive.)\n",
    "del zoo_animals['Unicorn']\n",
    "\n",
    "# Your code here!\n",
    "\n",
    "\n",
    "del zoo_animals['Sloth']\n",
    "del zoo_animals['Bengal Tiger']\n",
    "zoo_animals['Rockhopper Penguin'] = 'oso'\n",
    "\n",
    "print(zoo_animals)"
   ]
  },
  {
   "cell_type": "raw",
   "metadata": {},
   "source": [
    "Sometimes you need to remove something from a list.\n",
    "\n",
    "beatles = [\"john\",\"paul\",\"george\",\"ringo\",\"stuart\"]\n",
    "beatles.remove(\"stuart\")\n",
    "print beatles\n",
    "This code will print:\n",
    "\n",
    " [\"john\",\"paul\",\"george\",\"ringo\"]\n",
    " \n",
    "We create a list called beatles with 5 strings.\n",
    "Then, we remove the first item from beatles that matches the string \"stuart\". Note that .remove(item) does not return anything.\n",
    "Finally, we print out that list just to see that \"stuart\" was actually removed.\n",
    "Instructions\n",
    "1.\n",
    "Remove 'dagger' from the list of items stored in the backpack variable."
   ]
  },
  {
   "cell_type": "code",
   "execution_count": 7,
   "metadata": {},
   "outputs": [],
   "source": [
    "backpack = ['xylophone', 'dagger', 'tent', 'bread loaf']\n",
    "backpack.remove('dagger')"
   ]
  },
  {
   "cell_type": "raw",
   "metadata": {},
   "source": [
    ".\n",
    "Add a key to inventory called 'pocket'\n",
    "\n",
    "Set the value of 'pocket' to be a list consisting of the strings 'seashell', 'strange berry', and 'lint'\n",
    "\n",
    ".sort() the items in the list stored under the 'backpack' key\n",
    "\n",
    "Then .remove('dagger') from the list of items stored under the 'backpack' key\n",
    "\n",
    "Add 50 to the number stored under the 'gold' key"
   ]
  },
  {
   "cell_type": "code",
   "execution_count": 13,
   "metadata": {},
   "outputs": [],
   "source": [
    "inventory = {\n",
    "  'gold' : 500,\n",
    "  'pouch' : ['flint', 'twine', 'gemstone'], # Assigned a new list to 'pouch' key\n",
    "  'backpack' : ['xylophone','dagger', 'bedroll','bread loaf']\n",
    "}\n",
    "\n",
    "# Adding a key 'burlap bag' and assigning a list to it\n",
    "inventory['burlap bag'] = ['apple', 'small ruby', 'three-toed sloth']\n",
    "\n",
    "# Sorting the list found under the key 'pouch'\n",
    "inventory['pouch'].sort() \n",
    "\n",
    "# Your code here\n",
    "inventory['pocket'] = ['seashell', 'strange berry', 'lint']\n",
    "inventory['backpack'].sort()\n",
    "inventory['backpack'].remove('dagger')\n",
    "inventory['gold'] = inventory['gold'] + 50\n",
    "\n"
   ]
  },
  {
   "cell_type": "markdown",
   "metadata": {},
   "source": [
    "# Lists + Functions"
   ]
  },
  {
   "cell_type": "raw",
   "metadata": {},
   "source": [
    "# Write a function that counts how many times the string \"fizz\" appears in a list.\n",
    "\n",
    "Write a function called fizz_count that takes a list x as input.\n",
    "Create a variable count to hold the ongoing count. Initialize it to zero.\n",
    "for each item in x:, if that item is equal to the string \"fizz\" then increment the count variable.\n",
    "After the loop, please return the count variable.\n",
    "For example, fizz_count([\"fizz\",\"cat\",\"fizz\"]) should return 2.\n",
    "\n",
    "We need to count how many times \"fizz\" appears in our list. To do this, make a counter variable (for example, count) in your function. The counter variable could initially be set to zero. After that, you can loop through the list that you take as input and increase count by one every time an item in the list is equal to the string \"fizz\".\n",
    "\n",
    "At the end, don't forget to return the number of \"fizz\"s!\n",
    "\n",
    "Community Forums\n",
    "Here are some helpful links to the top questions asked by coders about this exercise:\n",
    "\n",
    "Why does my fizz_count return 1 instead of the correct answer?\n",
    "Still have questions? View this exercise's thread in the Codecademy Forums\n",
    "Report a Bug\n",
    "If you see a bug or any other issue with this page, please report it here.\n"
   ]
  },
  {
   "cell_type": "code",
   "execution_count": 3,
   "metadata": {},
   "outputs": [],
   "source": [
    "def fizz_count(x):\n",
    "  count = 0\n",
    "  for item in x:\n",
    "    if item == \"fizz\":\n",
    "      count = count + 1\n",
    "  return count"
   ]
  },
  {
   "cell_type": "code",
   "execution_count": 6,
   "metadata": {},
   "outputs": [
    {
     "name": "stdout",
     "output_type": "stream",
     "text": [
      "banana\n",
      "price: 4\n",
      "stock: 6\n",
      "apple\n",
      "price: 2\n",
      "stock: 0\n",
      "orange\n",
      "price: 1.5\n",
      "stock: 32\n",
      "pear\n",
      "price: 3\n",
      "stock: 15\n"
     ]
    }
   ],
   "source": [
    "prices = {\"banana\": 4,\"apple\": 2,\"orange\": 1.5,\"pear\": 3}\n",
    "\n",
    "stock = {\"banana\": 6, \"apple\": 0, \"orange\": 32, \"pear\": 15}\n",
    "\n",
    "for food in prices:\n",
    "  print (food)\n",
    "  print (\"price: %s\" % prices[food])\n",
    "  print (\"stock: %s\" % stock[food])"
   ]
  },
  {
   "cell_type": "code",
   "execution_count": 9,
   "metadata": {},
   "outputs": [
    {
     "name": "stdout",
     "output_type": "stream",
     "text": [
      "24\n",
      "0\n",
      "48.0\n",
      "45\n",
      "117.0\n"
     ]
    }
   ],
   "source": [
    "prices = {\"banana\": 4,\"apple\": 2,\"orange\": 1.5,\"pear\": 3}\n",
    "\n",
    "stock = {\"banana\": 6, \"apple\": 0, \"orange\": 32, \"pear\": 15}\n",
    "\n",
    "total = 0\n",
    "\n",
    "for food in prices:\n",
    "    print (prices[food] * stock[food])\n",
    "    total = total + prices[food] * stock[food]\n",
    "print (total)\n",
    "    "
   ]
  },
  {
   "cell_type": "markdown",
   "metadata": {},
   "source": [
    "Define a function compute_bill that takes one argument food as input.\n",
    "\n",
    "In the function, create a variable total with an initial value of zero.\n",
    "\n",
    "For each item in the food list, add the price of that item to total.\n",
    "\n",
    "Finally, return the total.\n",
    "\n",
    "Ignore whether or not the item you're billing for is in stock.Note that your function should work for any food list."
   ]
  },
  {
   "cell_type": "code",
   "execution_count": 10,
   "metadata": {},
   "outputs": [],
   "source": [
    "shopping_list = [\"banana\", \"orange\", \"apple\"]\n",
    "\n",
    "stock = {\n",
    "  \"banana\": 6,\n",
    "  \"apple\": 0,\n",
    "  \"orange\": 32,\n",
    "  \"pear\": 15\n",
    "}\n",
    "    \n",
    "prices = {\n",
    "  \"banana\": 4,\n",
    "  \"apple\": 2,\n",
    "  \"orange\": 1.5,\n",
    "  \"pear\": 3\n",
    "}\n",
    "\n",
    "# Write your code below!\n",
    "def compute_bill(food):\n",
    "  total = 0\n",
    "  for item in food:\n",
    "    total = total + prices[item]\n",
    "  return total\n"
   ]
  },
  {
   "cell_type": "markdown",
   "metadata": {},
   "source": [
    "Make the following changes to your compute_bill function:\n",
    "\n",
    "While you loop through each item of food, only add the price of the item to total if the item's stock count is greater than zero.\n",
    "\n",
    "if the item is in stock and after you add the price to the total, subtract one from the item's stock count."
   ]
  },
  {
   "cell_type": "code",
   "execution_count": 11,
   "metadata": {},
   "outputs": [],
   "source": [
    "shopping_list = [\"banana\", \"orange\", \"apple\"]\n",
    "\n",
    "stock = {\n",
    "  \"banana\": 6,\n",
    "  \"apple\": 0,\n",
    "  \"orange\": 32,\n",
    "  \"pear\": 15\n",
    "}\n",
    "    \n",
    "prices = {\n",
    "  \"banana\": 4,\n",
    "  \"apple\": 2,\n",
    "  \"orange\": 1.5,\n",
    "  \"pear\": 3\n",
    "}\n",
    "\n",
    "# Write your code below!\n",
    "def compute_bill(food):\n",
    "  total = 0\n",
    "  for item in food:\n",
    "    if stock[item] > 0:\n",
    "      total += prices[item]\n",
    "      stock[item] -= 1\n",
    "  return total"
   ]
  },
  {
   "cell_type": "code",
   "execution_count": 17,
   "metadata": {},
   "outputs": [],
   "source": [
    "\n",
    "shopping_list = [\"banana\", \"orange\", \"apple\"]\n",
    "\n",
    "stock = {\n",
    "  \"banana\": 6,\n",
    "  \"apple\": 0,\n",
    "  \"orange\": 32,\n",
    "  \"pear\": 15\n",
    "}\n",
    "    \n",
    "prices = {\n",
    "  \"banana\": 4,\n",
    "  \"apple\": 2,\n",
    "  \"orange\": 1.5,\n",
    "  \"pear\": 3\n",
    "}\n",
    "\n",
    "# Write your code below!\n",
    "def compute_bill(food):\n",
    "  total = 0\n",
    "  while item in food:\n",
    "    if item > 0:\n",
    "      total = total + prices[item]\n",
    "    elif item:\n",
    "      total = total + prices[item]\n",
    "  return total\n",
    "\n",
    "\n"
   ]
  },
  {
   "cell_type": "raw",
   "metadata": {},
   "source": [
    "Create three dictionaries: lloyd, alice, and tyler.\n",
    "\n",
    "Give each dictionary the keys \"name\", \"homework\", \"quizzes\", and \"tests\".\n",
    "\n",
    "Have the \"name\" key be the name of the student (that is, lloyd's name should be \"Lloyd\") and the other keys should be an empty list (We'll fill in these lists soon!)"
   ]
  },
  {
   "cell_type": "code",
   "execution_count": 18,
   "metadata": {},
   "outputs": [],
   "source": [
    "lloyd = {\n",
    "  \"name\" : \"Lloyd\",\n",
    "  \"homework\" : [],\n",
    "  \"quizzes\" : [],\n",
    "  \"tests\" : []\n",
    "}\n",
    "\n",
    "alice = {\n",
    "  \"name\" : \"Alice\",\n",
    "  \"homework\" : [],\n",
    "  \"quizzes\" : [],\n",
    "  \"tests\" : []\n",
    "}\n",
    "\n",
    "tyler = {\n",
    "  \"name\" : \"Tyler\",\n",
    "  \"homework\" : [],\n",
    "  \"quizzes\" : [],\n",
    "  \"tests\" : []\n",
    "}"
   ]
  },
  {
   "cell_type": "markdown",
   "metadata": {},
   "source": [
    "Now fill out your lloyd dictionary with the appropriate scores. To save you some time, we've filled out the rest for you.\n",
    "\n",
    "Homework: 90.0, 97.0, 75.0, 92.0\n",
    "\n",
    "Quizzes: 88.0, 40.0, 94.0\n",
    "\n",
    "Test Scores: 75.0, 90.0\n",
    "\n",
    "Make sure to include the decimal points so your grades are stored as floats! This will be important later."
   ]
  },
  {
   "cell_type": "code",
   "execution_count": 20,
   "metadata": {},
   "outputs": [],
   "source": [
    "lloyd = {\n",
    "  \"name\": \"Lloyd\",\n",
    "  \"homework\": [90.0, 97.0, 75.0, 92.0],\n",
    "  \"quizzes\": [88.0, 40.0, 94.0],\n",
    "  \"tests\": [75.0, 90.0]\n",
    "}\n",
    "alice = {\n",
    "  \"name\": \"Alice\",\n",
    "  \"homework\": [100.0, 92.0, 98.0, 100.0],\n",
    "  \"quizzes\": [82.0, 83.0, 91.0],\n",
    "  \"tests\": [89.0, 97.0]\n",
    "}\n",
    "tyler = {\n",
    "  \"name\": \"Tyler\",\n",
    "  \"homework\": [0.0, 87.0, 75.0, 22.0],\n",
    "  \"quizzes\": [0.0, 75.0, 78.0],\n",
    "  \"tests\": [100.0, 100.0]\n",
    "}"
   ]
  },
  {
   "cell_type": "markdown",
   "metadata": {},
   "source": [
    "Below your code, create a list called students that contains lloyd, alice, and tyler."
   ]
  },
  {
   "cell_type": "code",
   "execution_count": 21,
   "metadata": {},
   "outputs": [],
   "source": [
    "students = [lloyd, alice, tyler]"
   ]
  },
  {
   "cell_type": "raw",
   "metadata": {},
   "source": [
    "for each student in your students list, print out that student's data, as follows:\n",
    "\n",
    "print the student's name\n",
    "print the student's homework\n",
    "print the student's quizzes\n",
    "print the student's tests"
   ]
  },
  {
   "cell_type": "code",
   "execution_count": 23,
   "metadata": {},
   "outputs": [
    {
     "name": "stdout",
     "output_type": "stream",
     "text": [
      "Lloyd\n",
      "[90.0, 97.0, 75.0, 92.0]\n",
      "[88.0, 40.0, 94.0]\n",
      "[75.0, 90.0]\n",
      "Alice\n",
      "[100.0, 92.0, 98.0, 100.0]\n",
      "[82.0, 83.0, 91.0]\n",
      "[89.0, 97.0]\n",
      "Tyler\n",
      "[0.0, 87.0, 75.0, 22.0]\n",
      "[0.0, 75.0, 78.0]\n",
      "[100.0, 100.0]\n"
     ]
    }
   ],
   "source": [
    "lloyd = {\n",
    "  \"name\": \"Lloyd\",\n",
    "  \"homework\": [90.0, 97.0, 75.0, 92.0],\n",
    "  \"quizzes\": [88.0, 40.0, 94.0],\n",
    "  \"tests\": [75.0, 90.0]\n",
    "}\n",
    "alice = {\n",
    "  \"name\": \"Alice\",\n",
    "  \"homework\": [100.0, 92.0, 98.0, 100.0],\n",
    "  \"quizzes\": [82.0, 83.0, 91.0],\n",
    "  \"tests\": [89.0, 97.0]\n",
    "}\n",
    "tyler = {\n",
    "  \"name\": \"Tyler\",\n",
    "  \"homework\": [0.0, 87.0, 75.0, 22.0],\n",
    "  \"quizzes\": [0.0, 75.0, 78.0],\n",
    "  \"tests\": [100.0, 100.0]\n",
    "}\n",
    "\n",
    "students = [lloyd, alice, tyler]\n",
    "print (lloyd[\"name\"])\n",
    "print (lloyd[\"homework\"])\n",
    "print (lloyd[\"quizzes\"])\n",
    "print (lloyd[\"tests\"])\n",
    "\n",
    "print (alice[\"name\"])\n",
    "print (alice[\"homework\"])\n",
    "print (alice[\"quizzes\"])\n",
    "print (alice[\"tests\"])\n",
    "\n",
    "print (tyler[\"name\"])\n",
    "print (tyler[\"homework\"])\n",
    "print (tyler[\"quizzes\"])\n",
    "print (tyler[\"tests\"])"
   ]
  },
  {
   "cell_type": "raw",
   "metadata": {},
   "source": [
    "Write a function average that takes a list of numbers and returns the average.\n",
    "\n",
    "Define a function called average that has one argument, numbers.\n",
    "Inside that function, call the built-in sum() function with the numbers list as a parameter. Store the result in a variable called total.\n",
    "Like the example above, use float() to convert total and store the result in total.\n",
    "Divide total by the length of the numbers list. Use the built-in len() function to calculate that.\n",
    "Return that result."
   ]
  },
  {
   "cell_type": "code",
   "execution_count": 24,
   "metadata": {},
   "outputs": [],
   "source": [
    "lloyd = {\n",
    "  \"name\": \"Lloyd\",\n",
    "  \"homework\": [90.0, 97.0, 75.0, 92.0],\n",
    "  \"quizzes\": [88.0, 40.0, 94.0],\n",
    "  \"tests\": [75.0, 90.0]\n",
    "}\n",
    "alice = {\n",
    "  \"name\": \"Alice\",\n",
    "  \"homework\": [100.0, 92.0, 98.0, 100.0],\n",
    "  \"quizzes\": [82.0, 83.0, 91.0],\n",
    "  \"tests\": [89.0, 97.0]\n",
    "}\n",
    "tyler = {\n",
    "  \"name\": \"Tyler\",\n",
    "  \"homework\": [0.0, 87.0, 75.0, 22.0],\n",
    "  \"quizzes\": [0.0, 75.0, 78.0],\n",
    "  \"tests\": [100.0, 100.0]\n",
    "}\n",
    "\n",
    "# Add your function below!\n",
    "def average (numbers):\n",
    "  total = sum(numbers)\n",
    "  total = float(total)\n",
    "  total = total/ len(numbers)\n",
    "  return total"
   ]
  },
  {
   "cell_type": "raw",
   "metadata": {},
   "source": [
    "Write a function called get_average that takes a student dictionary (like lloyd, alice, or tyler) as input and returns his/her weighted average.\n",
    "\n",
    "Define a function called get_average that takes one argument called student.\n",
    "Make a variable homework that stores the average() of student[\"homework\"].\n",
    "Repeat the above step for \"quizzes\" and \"tests\".\n",
    "Multiply the 3 averages by their weights and return the sum of those three. Homework is 10%, quizzes are 30% and tests are 60%."
   ]
  },
  {
   "cell_type": "code",
   "execution_count": 25,
   "metadata": {},
   "outputs": [],
   "source": [
    "lloyd = {\n",
    "  \"name\": \"Lloyd\",\n",
    "  \"homework\": [90.0, 97.0, 75.0, 92.0],\n",
    "  \"quizzes\": [88.0, 40.0, 94.0],\n",
    "  \"tests\": [75.0, 90.0]\n",
    "}\n",
    "alice = {\n",
    "  \"name\": \"Alice\",\n",
    "  \"homework\": [100.0, 92.0, 98.0, 100.0],\n",
    "  \"quizzes\": [82.0, 83.0, 91.0],\n",
    "  \"tests\": [89.0, 97.0]\n",
    "}\n",
    "tyler = {\n",
    "  \"name\": \"Tyler\",\n",
    "  \"homework\": [0.0, 87.0, 75.0, 22.0],\n",
    "  \"quizzes\": [0.0, 75.0, 78.0],\n",
    "  \"tests\": [100.0, 100.0]\n",
    "}\n",
    "\n",
    "# Add your function below!\n",
    "def average(numbers):\n",
    "  total = sum(numbers)\n",
    "  total = float(total)\n",
    "  return total / len(numbers)\n",
    "\n",
    "def get_average(student):\n",
    "  homework = average(student[\"homework\"])\n",
    "  quizzes = average(student[\"quizzes\"])\n",
    "  tests = average(student[\"tests\"])\n",
    "  \n",
    "  total = homework *.1 + quizzes * .3 + tests * .6\n",
    "  return total"
   ]
  },
  {
   "cell_type": "raw",
   "metadata": {},
   "source": [
    "Define a new function called get_letter_grade that has one argument called score. Expect score to be a number.\n",
    "\n",
    "Inside your function, test score using a chain of if: / elif: / else: statements, like so:\n",
    "\n",
    "If score is 90 or above: return \"A\"\n",
    "Else if score is 80 or above: return \"B\"\n",
    "Else if score is 70 or above: return \"C\"\n",
    "Else if score is 60 or above: return \"D\"\n",
    "Otherwise: return \"F\"\n",
    "Finally, test your function!\n",
    "\n",
    "Print the resulting letter grade with print. Call the get_letter_grade function and pass in get_average(lloyd)."
   ]
  },
  {
   "cell_type": "code",
   "execution_count": 27,
   "metadata": {},
   "outputs": [
    {
     "name": "stdout",
     "output_type": "stream",
     "text": [
      "B\n"
     ]
    }
   ],
   "source": [
    "lloyd = {\n",
    "  \"name\": \"Lloyd\",\n",
    "  \"homework\": [90.0, 97.0, 75.0, 92.0],\n",
    "  \"quizzes\": [88.0, 40.0, 94.0],\n",
    "  \"tests\": [75.0, 90.0]\n",
    "}\n",
    "alice = {\n",
    "  \"name\": \"Alice\",\n",
    "  \"homework\": [100.0, 92.0, 98.0, 100.0],\n",
    "  \"quizzes\": [82.0, 83.0, 91.0],\n",
    "  \"tests\": [89.0, 97.0]\n",
    "}\n",
    "tyler = {\n",
    "  \"name\": \"Tyler\",\n",
    "  \"homework\": [0.0, 87.0, 75.0, 22.0],\n",
    "  \"quizzes\": [0.0, 75.0, 78.0],\n",
    "  \"tests\": [100.0, 100.0]\n",
    "}\n",
    "\n",
    "# Add your function below!\n",
    "def average(numbers):\n",
    "  total = sum(numbers)\n",
    "  total = float(total)\n",
    "  return total/len(numbers)\n",
    "\n",
    "def get_average(student):\n",
    "  homework = average(student[\"homework\"])\n",
    "  quizzes = average(student[\"quizzes\"])\n",
    "  tests = average(student[\"tests\"])\n",
    "  return 0.1 * homework + 0.3 * quizzes + 0.6 * tests\n",
    "\n",
    "def get_letter_grade(score):\n",
    "  if score >= 90:\n",
    "    return \"A\"\n",
    "  elif score >=80:\n",
    "    return \"B\"\n",
    "  elif score >=70:\n",
    "    return \"C\"\n",
    "  elif score >=60:\n",
    "    return \"D\"\n",
    "  else:\n",
    "    return \"F\"\n",
    "  \n",
    "print (get_letter_grade(get_average(lloyd)))"
   ]
  },
  {
   "cell_type": "markdown",
   "metadata": {},
   "source": [
    "Define a function called get_class_average that has one argument class_list. You can expect class_list to be a list containing your three students.\n",
    "\n",
    "First, make an empty list called results.\n",
    "\n",
    "For each student item in the class_list, calculate get_average(student) and then call results.append() with that result.\n",
    "\n",
    "Finally, return the result of calling average() with results."
   ]
  },
  {
   "cell_type": "code",
   "execution_count": 30,
   "metadata": {},
   "outputs": [],
   "source": [
    "lloyd = {\n",
    "  \"name\": \"Lloyd\",\n",
    "  \"homework\": [90.0, 97.0, 75.0, 92.0],\n",
    "  \"quizzes\": [88.0, 40.0, 94.0],\n",
    "  \"tests\": [75.0, 90.0]\n",
    "}\n",
    "alice = {\n",
    "  \"name\": \"Alice\",\n",
    "  \"homework\": [100.0, 92.0, 98.0, 100.0],\n",
    "  \"quizzes\": [82.0, 83.0, 91.0],\n",
    "  \"tests\": [89.0, 97.0]\n",
    "}\n",
    "tyler = {\n",
    "  \"name\": \"Tyler\",\n",
    "  \"homework\": [0.0, 87.0, 75.0, 22.0],\n",
    "  \"quizzes\": [0.0, 75.0, 78.0],\n",
    "  \"tests\": [100.0, 100.0]\n",
    "}\n",
    "\n",
    "# Add your function below!\n",
    "def average(numbers):\n",
    "  total = sum(numbers)\n",
    "  total = float(total)\n",
    "  return total/len(numbers)\n",
    "\n",
    "def get_average(student):\n",
    "  homework = average(student[\"homework\"])\n",
    "  quizzes = average(student[\"quizzes\"])\n",
    "  tests = average(student[\"tests\"])\n",
    "  return 0.1 * homework + 0.3 * quizzes + 0.6 * tests\n",
    "\n",
    "def get_class_average(class_list):\n",
    "    results =[]\n",
    "    class_average = get_average(student)\n",
    "    resuls.append(class_average)\n",
    "    return average(results)"
   ]
  },
  {
   "cell_type": "raw",
   "metadata": {},
   "source": [
    "1.Create a list called students and fill it with the three students, alice, lloyd, and tyler.\n",
    "\n",
    "2.Find the average grade of the class. Print this numerical grade to the terminal."
   ]
  },
  {
   "cell_type": "code",
   "execution_count": 31,
   "metadata": {},
   "outputs": [
    {
     "name": "stdout",
     "output_type": "stream",
     "text": [
      "83.86666666666666\n",
      "B\n"
     ]
    }
   ],
   "source": [
    "lloyd = {\n",
    "  \"name\": \"Lloyd\",\n",
    "  \"homework\": [90.0, 97.0, 75.0, 92.0],\n",
    "  \"quizzes\": [88.0, 40.0, 94.0],\n",
    "  \"tests\": [75.0, 90.0]\n",
    "}\n",
    "alice = {\n",
    "  \"name\": \"Alice\",\n",
    "  \"homework\": [100.0, 92.0, 98.0, 100.0],\n",
    "  \"quizzes\": [82.0, 83.0, 91.0],\n",
    "  \"tests\": [89.0, 97.0]\n",
    "}\n",
    "tyler = {\n",
    "  \"name\": \"Tyler\",\n",
    "  \"homework\": [0.0, 87.0, 75.0, 22.0],\n",
    "  \"quizzes\": [0.0, 75.0, 78.0],\n",
    "  \"tests\": [100.0, 100.0]\n",
    "}\n",
    "\n",
    "# Add your function below!\n",
    "def average(numbers):\n",
    "  total = sum(numbers)\n",
    "  total = float(total)\n",
    "  return total/len(numbers)\n",
    "\n",
    "def get_average(student):\n",
    "  homework = average(student[\"homework\"])\n",
    "  quizzes = average(student[\"quizzes\"])\n",
    "  tests = average(student[\"tests\"])\n",
    "  return 0.1 * homework + 0.3 * quizzes + 0.6 * tests\n",
    "\n",
    "def get_letter_grade(score):\n",
    "  if score >= 90:\n",
    "    return \"A\"\n",
    "  elif score >=80:\n",
    "    return \"B\"\n",
    "  elif score >=70:\n",
    "    return \"C\"\n",
    "  elif score >=60:\n",
    "    return \"D\"\n",
    "  else:\n",
    "    return \"F\"\n",
    "\n",
    "def get_class_average(class_list):\n",
    "  results = []\n",
    "  for student in class_list:\n",
    "    student_avg = get_average(student)\n",
    "    results.append(student_avg)\n",
    "  return average(results)\n",
    "\n",
    "students = [lloyd, alice, tyler]\n",
    "\n",
    "avg = get_class_average(students)\n",
    "print(avg)\n",
    "print(get_letter_grade(avg))"
   ]
  },
  {
   "cell_type": "markdown",
   "metadata": {},
   "source": [
    "# List"
   ]
  },
  {
   "cell_type": "code",
   "execution_count": 34,
   "metadata": {},
   "outputs": [
    {
     "name": "stdout",
     "output_type": "stream",
     "text": [
      "[1, 3, 5]\n"
     ]
    }
   ],
   "source": [
    "n = [1, 3, 5]\n",
    "print(n)"
   ]
  },
  {
   "cell_type": "code",
   "execution_count": 35,
   "metadata": {},
   "outputs": [
    {
     "name": "stdout",
     "output_type": "stream",
     "text": [
      "3\n"
     ]
    }
   ],
   "source": [
    "print(n[1])"
   ]
  },
  {
   "cell_type": "code",
   "execution_count": 32,
   "metadata": {},
   "outputs": [
    {
     "name": "stdout",
     "output_type": "stream",
     "text": [
      "15\n"
     ]
    }
   ],
   "source": [
    "n = [1, 3, 5]\n",
    "# Do your multiplication here\n",
    "n = n[1] * 5\n",
    "print (n)"
   ]
  },
  {
   "cell_type": "code",
   "execution_count": 33,
   "metadata": {},
   "outputs": [
    {
     "name": "stdout",
     "output_type": "stream",
     "text": [
      "[1, 15, 5]\n"
     ]
    }
   ],
   "source": [
    "n = [1, 3, 5]\n",
    "# Do your multiplication here\n",
    "n[1] = n[1] * 5\n",
    "print (n)"
   ]
  },
  {
   "cell_type": "markdown",
   "metadata": {},
   "source": [
    "Append the number 4 to the end of the list n."
   ]
  },
  {
   "cell_type": "code",
   "execution_count": 36,
   "metadata": {},
   "outputs": [
    {
     "name": "stdout",
     "output_type": "stream",
     "text": [
      "[1, 3, 5, 4]\n"
     ]
    }
   ],
   "source": [
    "n = [1, 3, 5]\n",
    "\n",
    "n.append(4)\n",
    "print(n)"
   ]
  },
  {
   "cell_type": "code",
   "execution_count": 38,
   "metadata": {},
   "outputs": [
    {
     "name": "stdout",
     "output_type": "stream",
     "text": [
      "[3, 5]\n"
     ]
    }
   ],
   "source": [
    "n = [1, 3, 5]\n",
    "# Remove the first item in the list here\n",
    "del(n[0])\n",
    "print (n)"
   ]
  },
  {
   "cell_type": "code",
   "execution_count": 39,
   "metadata": {},
   "outputs": [
    {
     "name": "stdout",
     "output_type": "stream",
     "text": [
      "[3, 5]\n"
     ]
    }
   ],
   "source": [
    "n = [1, 3, 5]\n",
    "n.pop(0)\n",
    "print(n)"
   ]
  },
  {
   "cell_type": "code",
   "execution_count": 40,
   "metadata": {},
   "outputs": [
    {
     "name": "stdout",
     "output_type": "stream",
     "text": [
      "[3, 5]\n"
     ]
    }
   ],
   "source": [
    "n = [1, 3, 5]\n",
    "n.remove(1)\n",
    "print(n)"
   ]
  },
  {
   "cell_type": "code",
   "execution_count": 41,
   "metadata": {},
   "outputs": [
    {
     "name": "stdout",
     "output_type": "stream",
     "text": [
      "15\n"
     ]
    }
   ],
   "source": [
    "number = 5\n",
    "def my_function(x):\n",
    "    return x*3\n",
    "print(my_function(number))"
   ]
  },
  {
   "cell_type": "code",
   "execution_count": 42,
   "metadata": {},
   "outputs": [
    {
     "name": "stdout",
     "output_type": "stream",
     "text": [
      "8\n"
     ]
    }
   ],
   "source": [
    "m = 5\n",
    "n = 3\n",
    "def add_function(x,y):\n",
    "    return x + y\n",
    "\n",
    "print(add_function(m,n))"
   ]
  },
  {
   "cell_type": "code",
   "execution_count": 46,
   "metadata": {},
   "outputs": [
    {
     "name": "stdout",
     "output_type": "stream",
     "text": [
      "helloworld\n"
     ]
    }
   ],
   "source": [
    "n = 'hello'\n",
    "def string_function(s):\n",
    "    return s +'world'\n",
    "print(string_function(n))"
   ]
  },
  {
   "cell_type": "markdown",
   "metadata": {},
   "source": [
    "Click Run to see that using a list as an argument in a function is essentially the same as using just a number or string!"
   ]
  },
  {
   "cell_type": "code",
   "execution_count": 48,
   "metadata": {},
   "outputs": [
    {
     "name": "stdout",
     "output_type": "stream",
     "text": [
      "[3, 5, 7]\n"
     ]
    }
   ],
   "source": [
    "def list_function(x):\n",
    "    return x\n",
    "\n",
    "n = [3, 5, 7]\n",
    "print(list_function(n))"
   ]
  },
  {
   "cell_type": "code",
   "execution_count": 51,
   "metadata": {},
   "outputs": [
    {
     "name": "stdout",
     "output_type": "stream",
     "text": [
      "5\n"
     ]
    }
   ],
   "source": [
    "def list_function(x):\n",
    "  return x[1]\n",
    "\n",
    "n = [3, 5, 7]\n",
    "print (list_function(n) )"
   ]
  },
  {
   "cell_type": "code",
   "execution_count": 54,
   "metadata": {},
   "outputs": [
    {
     "name": "stdout",
     "output_type": "stream",
     "text": [
      "[3, 8, 7]\n"
     ]
    }
   ],
   "source": [
    "def list_function(x):\n",
    "  x[1] = x[1] + 3\n",
    "  return x\n",
    "\n",
    "n = [3, 5, 7]\n",
    "print(list_function(n))"
   ]
  },
  {
   "cell_type": "code",
   "execution_count": 55,
   "metadata": {},
   "outputs": [
    {
     "name": "stdout",
     "output_type": "stream",
     "text": [
      "[3, 5, 7, 9]\n"
     ]
    }
   ],
   "source": [
    "n = [3, 5, 7]\n",
    "# Add your function here\n",
    "def list_extender(lst):\n",
    "  lst.append(9)\n",
    "  return lst\n",
    "\n",
    "\n",
    "print (list_extender(n))"
   ]
  },
  {
   "cell_type": "code",
   "execution_count": 57,
   "metadata": {},
   "outputs": [
    {
     "name": "stdout",
     "output_type": "stream",
     "text": [
      "[3, 5, 7]\n"
     ]
    }
   ],
   "source": [
    "n = [3, 5, 7]\n",
    "\n",
    "def print_list(x):\n",
    "    for i in range(0, len(x)):\n",
    "        return x\n",
    "print(print_list(n))"
   ]
  },
  {
   "cell_type": "code",
   "execution_count": 60,
   "metadata": {},
   "outputs": [
    {
     "name": "stdout",
     "output_type": "stream",
     "text": [
      "3\n",
      "5\n",
      "7\n"
     ]
    }
   ],
   "source": [
    "n = [3, 5, 7]\n",
    "\n",
    "def print_list(x):\n",
    "  for i in range(0, len(x)):\n",
    "    print (x[i])\n",
    "    \n",
    "print_list(n)"
   ]
  },
  {
   "cell_type": "code",
   "execution_count": 68,
   "metadata": {},
   "outputs": [
    {
     "name": "stdout",
     "output_type": "stream",
     "text": [
      "[6, 10, 14]\n"
     ]
    }
   ],
   "source": [
    "n = [3, 5, 7]\n",
    "\n",
    "def double_list(x):\n",
    "    for i in range(0, len(x)):\n",
    "        x[i] = x[i] * 2\n",
    "    return x\n",
    "# Don't forget to return your new list!\n",
    "\n",
    "print(double_list(n))"
   ]
  },
  {
   "cell_type": "raw",
   "metadata": {},
   "source": [
    "The Python range() function is just a shortcut for generating a list, so you can use ranges in all the same places you can use lists.\n",
    "\n",
    "range(6) # => [0, 1, 2, 3, 4, 5]\n",
    "range(1, 6) # => [1, 2, 3, 4, 5]\n",
    "range(1, 6, 3) # => [1, 4]\n",
    "The range function has three different versions:\n",
    "\n",
    "range(stop)\n",
    "range(start, stop)\n",
    "range(start, stop, step)\n",
    "In all cases, the range() function returns a list of numbers from start up to (but not including) stop. Each item increases by step.\n",
    "\n",
    "If omitted, start defaults to 0 and step defaults to 1."
   ]
  },
  {
   "cell_type": "raw",
   "metadata": {},
   "source": [
    "Now that we've learned about range, we have two ways of iterating through a list.\n",
    "\n",
    "Method 1 - for item in list:\n",
    "\n",
    "for item in list:\n",
    "  print item\n",
    "Method 2 - iterate through indexes:\n",
    "\n",
    "for i in range(len(list)):\n",
    "  print list[i]\n",
    "Method 1 is useful to loop through the list, but it's not possible to modify the list this way.\n",
    "\n",
    "Method 2 uses indexes to loop through the list, making it possible to also modify the list if needed. Since we aren't modifying the list, feel free to use either one on this lesson!\n",
    "\n",
    "1.Create a function that returns the sum of a list of numbers.\n",
    "\n",
    "On line 3, define a function called total that accepts one argument called numbers. It will be a list.\n",
    "Inside the function, create a variable called result and set it to zero.\n",
    "Using one of the two methods above, iterate through the numbers list. For each number, add it to result.\n",
    "Finally, return result."
   ]
  },
  {
   "cell_type": "code",
   "execution_count": 72,
   "metadata": {},
   "outputs": [],
   "source": [
    "n = [3, 5, 7]\n",
    "\n",
    "def total(numbers):\n",
    "    result = 0\n",
    "    for i in range(0,len(numbers)):\n",
    "        result += numbers[i]\n",
    "    return result"
   ]
  },
  {
   "cell_type": "raw",
   "metadata": {},
   "source": [
    "1.Create a function that concatenates strings.\n",
    "\n",
    "Define a function called join_strings accepts an argument called words. It will be a list.\n",
    "Inside the function, create a variable called result and set it to \"\", an empty string.\n",
    "Iterate through the words list and concatenate each word to result.\n",
    "Finally, return the result.\n",
    "Don't add spaces between the joined strings!"
   ]
  },
  {
   "cell_type": "code",
   "execution_count": 75,
   "metadata": {},
   "outputs": [
    {
     "name": "stdout",
     "output_type": "stream",
     "text": [
      "MichaelLieberman\n"
     ]
    }
   ],
   "source": [
    "n = [\"Michael\", \"Lieberman\"]\n",
    "# Add your function here\n",
    "def join_strings(words):\n",
    "  result = ''\n",
    "  for i in range(len(words)):\n",
    "    result += words[i]\n",
    "  return result\n",
    "\n",
    "\n",
    "print (join_strings(n))"
   ]
  },
  {
   "cell_type": "markdown",
   "metadata": {},
   "source": [
    "Create a function that joins two lists together.\n",
    "\n",
    "On line 5, define a function called join_lists that has two arguments, x and y. They will both be lists.\n",
    "Inside that function, return the result of concatenating x and y together"
   ]
  },
  {
   "cell_type": "code",
   "execution_count": 78,
   "metadata": {},
   "outputs": [
    {
     "name": "stdout",
     "output_type": "stream",
     "text": [
      "[1, 2, 3, 4, 5, 6]\n"
     ]
    }
   ],
   "source": [
    "m = [1, 2, 3]\n",
    "n = [4, 5, 6]\n",
    "\n",
    "# Add your code here!\n",
    "def join_lists(x,y):\n",
    "    return x + y\n",
    "print (join_lists(m, n))\n",
    "# You want this to print [1, 2, 3, 4, 5, 6]"
   ]
  },
  {
   "cell_type": "raw",
   "metadata": {},
   "source": [
    "Create a function called flatten that takes a single list and concatenates all the sublists that are part of it into a single list.\n",
    "\n",
    "On line 3, define a function called flatten with one argument called lists.\n",
    "Make a new, empty list called results.\n",
    "Iterate through lists. Call the looping variable numbers.\n",
    "Iterate through numbers.\n",
    "For each number, .append() it to results.\n",
    "Finally, return results from your function."
   ]
  },
  {
   "cell_type": "code",
   "execution_count": 80,
   "metadata": {},
   "outputs": [
    {
     "name": "stdout",
     "output_type": "stream",
     "text": [
      "[1, 2, 3, 4, 5, 6, 7, 8, 9]\n"
     ]
    }
   ],
   "source": [
    "n = [[1, 2, 3], [4, 5, 6, 7, 8, 9]]\n",
    "# Add your function here\n",
    "\n",
    "def flatten(lists):\n",
    "  results = []\n",
    "  for numbers in lists:\n",
    "    for number in numbers:\n",
    "      results.append(number)\n",
    "  return results\n",
    "\n",
    "print (flatten(n))"
   ]
  },
  {
   "cell_type": "markdown",
   "metadata": {},
   "source": [
    "# WHILE LOOPS"
   ]
  },
  {
   "cell_type": "markdown",
   "metadata": {},
   "source": [
    "Change the loop so that it counts from 0 up to 9 (inclusive).\n",
    "\n",
    "Be careful not to alter or remove the count += 1 statement. If your program has no way to increase count, your loop could go on forever and become an infinite loop which could crash your computer/browser!"
   ]
  },
  {
   "cell_type": "code",
   "execution_count": 91,
   "metadata": {},
   "outputs": [
    {
     "name": "stdout",
     "output_type": "stream",
     "text": [
      "Hello, I am an if statement and count is 0\n",
      "Hello, I am a while and count is 0\n",
      "Hello, I am a while and count is 1\n",
      "Hello, I am a while and count is 2\n",
      "Hello, I am a while and count is 3\n",
      "Hello, I am a while and count is 4\n",
      "Hello, I am a while and count is 5\n",
      "Hello, I am a while and count is 6\n",
      "Hello, I am a while and count is 7\n",
      "Hello, I am a while and count is 8\n",
      "Hello, I am a while and count is 9\n"
     ]
    }
   ],
   "source": [
    "count = 0\n",
    "\n",
    "if count < 5:\n",
    "  print (\"Hello, I am an if statement and count is\", count)\n",
    "\n",
    "while count < 10:\n",
    "  print (\"Hello, I am a while and count is\", count)\n",
    "  count += 1"
   ]
  },
  {
   "cell_type": "raw",
   "metadata": {},
   "source": [
    "Create a while loop that prints out all the numbers from 1 to 10 squared (1, 4, 9, 16, ... , 100), each on their own line.\n",
    "\n",
    "-Fill in the blank space so that our while loop goes from 1 to 10 inclusive.\n",
    "-Inside the loop, print the value of num squared. The syntax for squaring a number is num ** 2.\n",
    "-Increment num.\n"
   ]
  },
  {
   "cell_type": "code",
   "execution_count": 93,
   "metadata": {},
   "outputs": [
    {
     "name": "stdout",
     "output_type": "stream",
     "text": [
      "1\n",
      "4\n",
      "9\n",
      "16\n",
      "25\n",
      "36\n",
      "49\n",
      "64\n",
      "81\n",
      "100\n"
     ]
    }
   ],
   "source": [
    "num = 1\n",
    "\n",
    "while num < 11:\n",
    "  print (num ** 2)\n",
    "  num += 1"
   ]
  },
  {
   "cell_type": "markdown",
   "metadata": {},
   "source": [
    "Fill in the loop condition so the user will be prompted for a choice over and over while choice does not equal 'y' and choice does not equal 'n'."
   ]
  },
  {
   "cell_type": "code",
   "execution_count": null,
   "metadata": {},
   "outputs": [],
   "source": [
    "choice = raw_input('Enjoying the course? (y/n)')\n",
    "\n",
    "while choice != 'y' and choice != 'n':  # Fill in the condition (before the colon)\n",
    "  choice = raw_input(\"Sorry, I didn't catch that. Enter again: \")"
   ]
  },
  {
   "cell_type": "code",
   "execution_count": 95,
   "metadata": {},
   "outputs": [
    {
     "name": "stdout",
     "output_type": "stream",
     "text": [
      "0\n",
      "1\n",
      "2\n",
      "3\n",
      "4\n",
      "5\n",
      "6\n",
      "7\n",
      "8\n",
      "9\n"
     ]
    }
   ],
   "source": [
    "count = 0\n",
    "\n",
    "while count < 10: # Add a colon\n",
    "  print(count)\n",
    "  # Increment count\n",
    "  count += 1"
   ]
  },
  {
   "cell_type": "code",
   "execution_count": 101,
   "metadata": {},
   "outputs": [
    {
     "name": "stdout",
     "output_type": "stream",
     "text": [
      "Lucky Numbers! 3 numbers will be generated.\n",
      "If one of them is a '5', you lose!\n",
      "3\n",
      "4\n",
      "5\n",
      "Sorry, you lose!\n"
     ]
    }
   ],
   "source": [
    "import random\n",
    "\n",
    "print (\"Lucky Numbers! 3 numbers will be generated.\")\n",
    "print (\"If one of them is a '5', you lose!\")\n",
    "\n",
    "count = 0\n",
    "while count < 3:\n",
    "  num = random.randint(1, 6)\n",
    "  print (num)\n",
    "  if num == 5:\n",
    "    print (\"Sorry, you lose!\")\n",
    "    break\n",
    "  count += 1\n",
    "else:\n",
    "  print (\"You win!\")"
   ]
  },
  {
   "cell_type": "markdown",
   "metadata": {},
   "source": [
    "Use a while loop to let the user keep guessing so long as guesses_left is greater than zero.\n",
    "\n",
    "Ask the user for their guess, just like the second example above.\n",
    "\n",
    "If they guess correctly, print \"You win!\" and break.\n",
    "\n",
    "Decrement guesses_left by one.\n",
    "\n",
    "Use an else: case after your while loop to print \"You lose.\"."
   ]
  },
  {
   "cell_type": "code",
   "execution_count": null,
   "metadata": {},
   "outputs": [],
   "source": [
    "from random import randint\n",
    "\n",
    "# Generates a number from 1 through 10 inclusive\n",
    "random_number = randint(1, 10)\n",
    "\n",
    "guesses_left = 3\n",
    "# Start your game!\n",
    "while guesses_left > 0:\n",
    "  guess = int(raw_input(\"Your guess: \"))\n",
    "  if guess == random_number:\n",
    "    print (\"You win!\")\n",
    "    break\n",
    "  guesses_left -= 1\n",
    "else:\n",
    "  print (\"You lose.\")\n"
   ]
  },
  {
   "cell_type": "markdown",
   "metadata": {},
   "source": [
    "Make the loop print the numbers from 0 to 19 instead of 0 to 9."
   ]
  },
  {
   "cell_type": "code",
   "execution_count": 104,
   "metadata": {},
   "outputs": [
    {
     "name": "stdout",
     "output_type": "stream",
     "text": [
      "Counting...\n",
      "0\n",
      "1\n",
      "2\n",
      "3\n",
      "4\n",
      "5\n",
      "6\n",
      "7\n",
      "8\n",
      "9\n",
      "10\n",
      "11\n",
      "12\n",
      "13\n",
      "14\n",
      "15\n",
      "16\n",
      "17\n",
      "18\n",
      "19\n"
     ]
    }
   ],
   "source": [
    "print (\"Counting...\")\n",
    "\n",
    "for i in range(20):\n",
    "  print (i)"
   ]
  },
  {
   "cell_type": "markdown",
   "metadata": {},
   "source": [
    "Create a for loop that prompts the user for a hobby 3 times.\n",
    "\n",
    "Save the result of each prompt in a hobby variable\n",
    "\n",
    "append each one to hobbies.\n",
    "\n",
    "print hobbies after your for loop\n",
    "\n",
    "Make sure to answer the prompts in the terminal when testing your code!"
   ]
  },
  {
   "cell_type": "code",
   "execution_count": null,
   "metadata": {},
   "outputs": [],
   "source": [
    "hobbies = []\n",
    "\n",
    "# Add your code below!\n",
    "\n",
    "for num in range(3):\n",
    "  hobby =  raw_input(\"Tell me one of your favorite hobbies: \")\n",
    "  hobbies.append(hobby)\n",
    "\n",
    "print hobbies"
   ]
  },
  {
   "cell_type": "code",
   "execution_count": 105,
   "metadata": {},
   "outputs": [
    {
     "name": "stdout",
     "output_type": "stream",
     "text": [
      "s\n",
      "p\n",
      "a\n",
      "m\n",
      "!\n",
      "e\n",
      "g\n",
      "g\n",
      "s\n",
      "!\n"
     ]
    }
   ],
   "source": [
    "thing = \"spam!\"\n",
    "\n",
    "for c in thing:\n",
    "  print (c)\n",
    "\n",
    "word = \"eggs!\"\n",
    "\n",
    "# Your code here!\n",
    "for e in word:\n",
    "  print (e)"
   ]
  },
  {
   "cell_type": "markdown",
   "metadata": {},
   "source": [
    "Let's filter out the letter \"A\" from our string.\n",
    "\n",
    "Do the following for each character in the phrase.\n",
    "If char is an \"A\" or char is an \"a\", print \"X\", instead of char. Make sure to include the trailing comma.\n",
    "Otherwise (else:), please print char, with the trailing comma."
   ]
  },
  {
   "cell_type": "code",
   "execution_count": 106,
   "metadata": {},
   "outputs": [
    {
     "name": "stdout",
     "output_type": "stream",
     "text": [
      "X\n",
      " \n",
      "b\n",
      "i\n",
      "r\n",
      "d\n",
      " \n",
      "i\n",
      "n\n",
      " \n",
      "t\n",
      "h\n",
      "e\n",
      " \n",
      "h\n",
      "X\n",
      "n\n",
      "d\n",
      ".\n",
      ".\n",
      ".\n"
     ]
    }
   ],
   "source": [
    "phrase = \"A bird in the hand...\"\n",
    "\n",
    "# Add your for loop\n",
    "for char in phrase:\n",
    "  if char == \"A\" or char == 'a':\n",
    "    print ('X'),\n",
    "  else:\n",
    "    print (char),\n"
   ]
  },
  {
   "cell_type": "markdown",
   "metadata": {},
   "source": [
    "Write a second for loop that goes through the numbers list and prints each element squared, each on its own line."
   ]
  },
  {
   "cell_type": "code",
   "execution_count": 107,
   "metadata": {},
   "outputs": [
    {
     "name": "stdout",
     "output_type": "stream",
     "text": [
      "This list contains: \n",
      "7\n",
      "9\n",
      "12\n",
      "54\n",
      "99\n",
      "49\n",
      "81\n",
      "144\n",
      "2916\n",
      "9801\n"
     ]
    }
   ],
   "source": [
    "numbers  = [7, 9, 12, 54, 99]\n",
    "\n",
    "print (\"This list contains: \")\n",
    "\n",
    "for num in numbers:\n",
    "  print (num)\n",
    "\n",
    "# Add your loop below!\n",
    "for num in numbers:\n",
    "  print (num **2)"
   ]
  },
  {
   "cell_type": "code",
   "execution_count": 108,
   "metadata": {},
   "outputs": [
    {
     "name": "stdout",
     "output_type": "stream",
     "text": [
      "a apple\n",
      "b berry\n",
      "c cherry\n"
     ]
    }
   ],
   "source": [
    "d = {'a': 'apple', 'b': 'berry', 'c': 'cherry'}\n",
    "\n",
    "for key in d:\n",
    "  # Your code here!\n",
    "  print (key, d[key])"
   ]
  },
  {
   "cell_type": "code",
   "execution_count": 111,
   "metadata": {},
   "outputs": [
    {
     "name": "stdout",
     "output_type": "stream",
     "text": [
      "Your choices are:\n",
      "0 pizza\n",
      "1 pasta\n",
      "2 salad\n",
      "3 nachos\n"
     ]
    }
   ],
   "source": [
    "choices = ['pizza', 'pasta', 'salad', 'nachos']\n",
    "\n",
    "print ('Your choices are:')\n",
    "for index, item in enumerate(choices):\n",
    "  print (index, item)"
   ]
  },
  {
   "cell_type": "code",
   "execution_count": 112,
   "metadata": {},
   "outputs": [
    {
     "name": "stdout",
     "output_type": "stream",
     "text": [
      "Your choices are:\n",
      "1 pizza\n",
      "2 pasta\n",
      "3 salad\n",
      "4 nachos\n"
     ]
    }
   ],
   "source": [
    "choices = ['pizza', 'pasta', 'salad', 'nachos']\n",
    "\n",
    "print ('Your choices are:')\n",
    "for index, item in enumerate(choices):\n",
    "  print (index + 1, item)"
   ]
  },
  {
   "cell_type": "markdown",
   "metadata": {},
   "source": [
    "Compare each pair of elements and print the larger of the two."
   ]
  },
  {
   "cell_type": "code",
   "execution_count": 113,
   "metadata": {},
   "outputs": [
    {
     "name": "stdout",
     "output_type": "stream",
     "text": [
      "3\n",
      "9\n",
      "17\n",
      "15\n",
      "30\n"
     ]
    }
   ],
   "source": [
    "list_a = [3, 9, 17, 15, 19]\n",
    "list_b = [2, 4, 8, 10, 30, 40, 50, 60, 70, 80, 90]\n",
    "\n",
    "for a, b in zip(list_a, list_b):\n",
    "  # Add your code here!\n",
    "    print (max(a, b))"
   ]
  },
  {
   "cell_type": "code",
   "execution_count": 114,
   "metadata": {},
   "outputs": [
    {
     "name": "stdout",
     "output_type": "stream",
     "text": [
      "You have...\n",
      "A banana\n",
      "A apple\n",
      "A orange\n",
      "A tomato is not a fruit!\n"
     ]
    }
   ],
   "source": [
    "fruits = ['banana', 'apple', 'orange', 'tomato', 'pear', 'grape']\n",
    "\n",
    "print ('You have...')\n",
    "for f in fruits:\n",
    "  if f == 'tomato':\n",
    "    print ('A tomato is not a fruit!' )# (It actually is.)\n",
    "    break\n",
    "  print ('A', f)\n",
    "else:\n",
    "  print ('A fine selection of fruits!')"
   ]
  },
  {
   "cell_type": "markdown",
   "metadata": {},
   "source": [
    "Modify the code in the editor such that the for loop's else statement is executed."
   ]
  },
  {
   "cell_type": "code",
   "execution_count": 116,
   "metadata": {},
   "outputs": [
    {
     "name": "stdout",
     "output_type": "stream",
     "text": [
      "You have...\n",
      "A banana\n",
      "A apple\n",
      "A orange\n",
      "A tomato is not a fruit!\n",
      "A tomato\n",
      "A pear\n",
      "A grape\n",
      "A fine selection of fruits!\n"
     ]
    }
   ],
   "source": [
    "fruits = ['banana', 'apple', 'orange', 'tomato', 'pear', 'grape']\n",
    "\n",
    "print('You have...')\n",
    "for f in fruits:\n",
    "  if f == 'tomato':\n",
    "    print ('A tomato is not a fruit!') # (It actually is.)\n",
    "  print ('A', f)\n",
    "else:\n",
    "  print ('A fine selection of fruits!')"
   ]
  },
  {
   "cell_type": "code",
   "execution_count": 119,
   "metadata": {},
   "outputs": [
    {
     "name": "stdout",
     "output_type": "stream",
     "text": [
      "tenemos...\n",
      "El pink\n",
      "El blue\n",
      "El purple\n",
      "La banana no es un color\n"
     ]
    }
   ],
   "source": [
    "colors = ['pink', 'blue', 'purple','banana']\n",
    "\n",
    "print('tenemos...')\n",
    "for c in colors:\n",
    "  if c == 'banana':\n",
    "    print('La banana no es un color')\n",
    "    break\n",
    "  print('El', c)\n",
    "else:\n",
    "  print('Es una lista de colores')"
   ]
  },
  {
   "cell_type": "code",
   "execution_count": 122,
   "metadata": {},
   "outputs": [
    {
     "name": "stdout",
     "output_type": "stream",
     "text": [
      "tenemos...\n",
      "El pink\n",
      "El blue\n",
      "El purple\n",
      "La banana no es un color\n",
      "El banana\n",
      "Es una lista de colores\n"
     ]
    }
   ],
   "source": [
    "colors = ['pink', 'blue', 'purple','banana']\n",
    "\n",
    "print('tenemos...')\n",
    "for c in colors:\n",
    "  if c == 'banana':\n",
    "    print('La banana no es un color')\n",
    "    \n",
    "  print('El', c)\n",
    "else:\n",
    "  print('Es una lista de colores')"
   ]
  },
  {
   "cell_type": "markdown",
   "metadata": {},
   "source": [
    "EVEN"
   ]
  },
  {
   "cell_type": "markdown",
   "metadata": {},
   "source": [
    "Define a function is_even that will take a number x as input.\n",
    "\n",
    "If x is even, then return True.\n",
    "\n",
    "Otherwise, return False."
   ]
  },
  {
   "cell_type": "code",
   "execution_count": 123,
   "metadata": {},
   "outputs": [],
   "source": [
    "def is_even(x):\n",
    "  if x % 2 == 0:\n",
    "    return True\n",
    "  else:\n",
    "    return False"
   ]
  },
  {
   "cell_type": "markdown",
   "metadata": {},
   "source": [
    "Define a function is_int that takes a number x as an input.\n",
    "\n",
    "Have it return True if the number is an integer (as defined above) and False otherwise.\n",
    "\n"
   ]
  },
  {
   "cell_type": "code",
   "execution_count": 124,
   "metadata": {},
   "outputs": [],
   "source": [
    "def is_int(x):\n",
    "  absolute = abs(x)\n",
    "  rounded = round(absolute)\n",
    "  return absolute - rounded == 0"
   ]
  },
  {
   "cell_type": "code",
   "execution_count": 125,
   "metadata": {},
   "outputs": [
    {
     "data": {
      "text/plain": [
       "True"
      ]
     },
     "execution_count": 125,
     "metadata": {},
     "output_type": "execute_result"
    }
   ],
   "source": [
    "is_int(4)"
   ]
  },
  {
   "cell_type": "code",
   "execution_count": 126,
   "metadata": {},
   "outputs": [
    {
     "data": {
      "text/plain": [
       "True"
      ]
     },
     "execution_count": 126,
     "metadata": {},
     "output_type": "execute_result"
    }
   ],
   "source": [
    "is_int(7)"
   ]
  },
  {
   "cell_type": "code",
   "execution_count": 127,
   "metadata": {},
   "outputs": [
    {
     "data": {
      "text/plain": [
       "True"
      ]
     },
     "execution_count": 127,
     "metadata": {},
     "output_type": "execute_result"
    }
   ],
   "source": [
    "is_int(1)"
   ]
  },
  {
   "cell_type": "code",
   "execution_count": 128,
   "metadata": {},
   "outputs": [
    {
     "data": {
      "text/plain": [
       "False"
      ]
     },
     "execution_count": 128,
     "metadata": {},
     "output_type": "execute_result"
    }
   ],
   "source": [
    "is_int(5.6)"
   ]
  },
  {
   "cell_type": "markdown",
   "metadata": {},
   "source": [
    "Write a function called digit_sum that takes a positive integer n as input and returns the sum of all that number's digits. For example: digit_sum(1234) should return 10 which is 1 + 2 + 3 + 4. (Assume that the number you are given will always be positive.)\n",
    "\n",
    "Check the hint if you need help!"
   ]
  },
  {
   "cell_type": "code",
   "execution_count": 143,
   "metadata": {},
   "outputs": [
    {
     "name": "stdout",
     "output_type": "stream",
     "text": [
      "123\n",
      "12\n",
      "1\n",
      "0\n",
      "10\n"
     ]
    }
   ],
   "source": [
    "def digit_sum(x):\n",
    "    total = 0\n",
    "    while x > 0:\n",
    "        total += x % 10\n",
    "        x = x // 10\n",
    "        print (x)\n",
    "    return total\n",
    "  \n",
    "  \n",
    "print (digit_sum(1234))"
   ]
  },
  {
   "cell_type": "markdown",
   "metadata": {},
   "source": [
    "Define a function factorial that takes an integer x as input.\n",
    "\n",
    "Calculate and return the factorial of that number."
   ]
  },
  {
   "cell_type": "code",
   "execution_count": 146,
   "metadata": {},
   "outputs": [],
   "source": [
    "def factorial(x):\n",
    "  if x == 1:\n",
    "    return 1\n",
    "  else:\n",
    "    x = x * int(factorial(int(x-1)))\n",
    "  return x"
   ]
  },
  {
   "cell_type": "code",
   "execution_count": 147,
   "metadata": {},
   "outputs": [
    {
     "name": "stdout",
     "output_type": "stream",
     "text": [
      "24\n"
     ]
    }
   ],
   "source": [
    "print(factorial(4))"
   ]
  },
  {
   "cell_type": "markdown",
   "metadata": {},
   "source": [
    "Define a function called is_prime that takes a number x as input.\n",
    "\n",
    "For each number n from 2 to x - 1, test if x is evenly divisible by n.\n",
    "\n",
    "If it is, return False.\n",
    "\n",
    "If none of them are, then return True."
   ]
  },
  {
   "cell_type": "code",
   "execution_count": 11,
   "metadata": {},
   "outputs": [],
   "source": [
    "def is_prime(x):\n",
    "    if x < 2:\n",
    "        return False\n",
    "    else:\n",
    "        for i in range(2, x-1):\n",
    "            if x % n == 0:\n",
    "                return False\n",
    "        return True"
   ]
  },
  {
   "cell_type": "code",
   "execution_count": 14,
   "metadata": {},
   "outputs": [
    {
     "data": {
      "text/plain": [
       "True"
      ]
     },
     "execution_count": 14,
     "metadata": {},
     "output_type": "execute_result"
    }
   ],
   "source": [
    "is_prime(3)"
   ]
  },
  {
   "cell_type": "markdown",
   "metadata": {},
   "source": [
    "Define a function called reverse that takes a string textand returns that string in reverse. For example: reverse(\"abcd\") should return \"dcba\".\n",
    "\n",
    "You may not use reversed or [::-1] to help you with this.\n",
    "\n",
    "You may get a string containing special characters (for example, !, @, or #).\n",
    "\n"
   ]
  },
  {
   "cell_type": "code",
   "execution_count": 16,
   "metadata": {},
   "outputs": [
    {
     "name": "stdout",
     "output_type": "stream",
     "text": [
      "aloh\n"
     ]
    }
   ],
   "source": [
    "def reverse(text):\n",
    "    word = \"\"\n",
    "    l = len(text) - 1\n",
    "    while l >= 0:\n",
    "        word = word + text[l]\n",
    "        l -= 1\n",
    "    return word\n",
    "  \n",
    "print (reverse('hola'))"
   ]
  },
  {
   "cell_type": "markdown",
   "metadata": {},
   "source": [
    "Define a function called anti_vowel that takes one string, text, as input and returns the text with all of the vowels removed.\n",
    "\n",
    "For example: anti_vowel(\"Hey You!\") should return \"Hy Y!\". Don't count Y as a vowel. Make sure to remove lowercase and uppercase vowels."
   ]
  },
  {
   "cell_type": "code",
   "execution_count": 17,
   "metadata": {},
   "outputs": [],
   "source": [
    "def anti_vowel(text):\n",
    "    t=\"\"\n",
    "    for c in text:\n",
    "        for i in \"ieaouIEAOU\":\n",
    "            if c==i:\n",
    "                c=\"\"\n",
    "            else:\n",
    "                c=c\n",
    "        t=t+c\n",
    "    return t"
   ]
  },
  {
   "cell_type": "code",
   "execution_count": 18,
   "metadata": {},
   "outputs": [
    {
     "data": {
      "text/plain": [
       "'Hy Y!'"
      ]
     },
     "execution_count": 18,
     "metadata": {},
     "output_type": "execute_result"
    }
   ],
   "source": [
    "anti_vowel(\"Hey You!\")"
   ]
  },
  {
   "cell_type": "code",
   "execution_count": 19,
   "metadata": {},
   "outputs": [
    {
     "data": {
      "text/plain": [
       "'Dnl'"
      ]
     },
     "execution_count": 19,
     "metadata": {},
     "output_type": "execute_result"
    }
   ],
   "source": [
    "anti_vowel(\"Daniel\")"
   ]
  },
  {
   "cell_type": "code",
   "execution_count": 20,
   "metadata": {},
   "outputs": [
    {
     "data": {
      "text/plain": [
       "'lcfr s n dmn'"
      ]
     },
     "execution_count": 20,
     "metadata": {},
     "output_type": "execute_result"
    }
   ],
   "source": [
    "anti_vowel(\"lucifer es un demonio\")"
   ]
  },
  {
   "cell_type": "markdown",
   "metadata": {},
   "source": [
    "Define a function scrabble_score that takes a string word as input and returns the equivalent scrabble score for that word.\n",
    "\n",
    "Assume your input is only one word containing no spaces or punctuation.\n",
    "As mentioned, no need to worry about score multipliers!\n",
    "Your function should work even if the letters you get are uppercase, lowercase, or a mix.\n",
    "Assume that you're only given non-empty strings."
   ]
  },
  {
   "cell_type": "code",
   "execution_count": 21,
   "metadata": {},
   "outputs": [],
   "source": [
    "score = {\"a\": 1, \"c\": 3, \"b\": 3, \"e\": 1, \"d\": 2, \"g\": 2, \n",
    "         \"f\": 4, \"i\": 1, \"h\": 4, \"k\": 5, \"j\": 8, \"m\": 3, \n",
    "         \"l\": 1, \"o\": 1, \"n\": 1, \"q\": 10, \"p\": 3, \"s\": 1, \n",
    "         \"r\": 1, \"u\": 1, \"t\": 1, \"w\": 4, \"v\": 4, \"y\": 4, \n",
    "         \"x\": 8, \"z\": 10}\n",
    "         \n",
    "def scrabble_score(word):\n",
    "  word = word.lower()\n",
    "  total = 0\n",
    "  for letter in word:\n",
    "    for leter in score:\n",
    "      if letter == leter:\n",
    "        total = total + score[leter]\n",
    "  return total"
   ]
  },
  {
   "cell_type": "markdown",
   "metadata": {},
   "source": [
    "Write a function called censor that takes two strings, text and word, as input. It should return the text with the word you chose replaced with asterisks. For example:\n",
    "\n",
    "censor(\"this hack is wack hack\", \"hack\")\n",
    "should return:\n",
    "\n",
    "\"this **** is wack ****\"\n",
    "Assume your input strings won't contain punctuation or upper case letters.\n",
    "The number of asterisks you put should correspond to the number of letters in the censored word."
   ]
  },
  {
   "cell_type": "code",
   "execution_count": 29,
   "metadata": {},
   "outputs": [],
   "source": [
    "def censor(text, word):\n",
    "    words = text.split()\n",
    "    result = ''\n",
    "    stars = '*' * len(word)\n",
    "    count = 0\n",
    "    for i in words:\n",
    "        if i == word:\n",
    "            words[count] = stars\n",
    "        count += 1\n",
    "    result =' '.join(words)\n",
    "\n",
    "    return result"
   ]
  },
  {
   "cell_type": "code",
   "execution_count": 30,
   "metadata": {},
   "outputs": [
    {
     "name": "stdout",
     "output_type": "stream",
     "text": [
      "menuda mierda, vaya ******\n"
     ]
    }
   ],
   "source": [
    "print(censor(\"menuda mierda, vaya mierda\", \"mierda\"))"
   ]
  },
  {
   "cell_type": "markdown",
   "metadata": {},
   "source": [
    "Define a function called count that has two arguments called sequence and item.\n",
    "\n",
    "Return the number of times the item occurs in the list.\n",
    "\n",
    "For example: count([1, 2, 1, 1], 1) should return 3 (because 1 appears 3 times in the list).\n",
    "\n",
    "There is a list method in Python that you can use for this, but you should do it the long way for practice.\n",
    "Your function should return an integer.\n",
    "The item you input may be an integer, string, float, or even another list!\n",
    "Be careful not to use list as a variable name in your code—it's a reserved word in Python!"
   ]
  },
  {
   "cell_type": "code",
   "execution_count": 38,
   "metadata": {},
   "outputs": [
    {
     "name": "stdout",
     "output_type": "stream",
     "text": [
      "3\n"
     ]
    }
   ],
   "source": [
    "def count(sequence, item):\n",
    "    count = 0\n",
    "    for i in sequence:\n",
    "        if i == item:\n",
    "            count += 1\n",
    "    return count    \n",
    "\n",
    "print(count([1,2,3,4,4,4,],4))"
   ]
  },
  {
   "cell_type": "markdown",
   "metadata": {},
   "source": [
    "Define a function called purify that takes in a list of numbers, removes all odd numbers in the list, and returns the result. For example, purify([1,2,3]) should return [2].\n",
    "\n",
    "Do not directly modify the list you are given as input; instead, return a new list with only the even numbers."
   ]
  },
  {
   "cell_type": "code",
   "execution_count": 42,
   "metadata": {},
   "outputs": [],
   "source": [
    "def purify(lst):\n",
    "    res = []\n",
    "    for ele in lst:\n",
    "        if ele % 2 == 0:\n",
    "            res.append(ele)\n",
    "    return res"
   ]
  },
  {
   "cell_type": "code",
   "execution_count": 43,
   "metadata": {},
   "outputs": [
    {
     "data": {
      "text/plain": [
       "[2, 4, 6]"
      ]
     },
     "execution_count": 43,
     "metadata": {},
     "output_type": "execute_result"
    }
   ],
   "source": [
    "purify([1,2,3,4,5,6,7])"
   ]
  },
  {
   "cell_type": "markdown",
   "metadata": {},
   "source": [
    "Define a function called product that takes a list of integers as input and returns the product of all of the elements in the list. For example: product([4, 5, 5]) should return 100 (because 4 * 5 * 5 is 100).\n",
    "\n",
    "Don't worry about the list being empty.\n",
    "Your function should return an integer."
   ]
  },
  {
   "cell_type": "code",
   "execution_count": 44,
   "metadata": {},
   "outputs": [],
   "source": [
    "def product(list):\n",
    "  total = 1\n",
    "  for num in list:\n",
    "    total = total * num\n",
    "  return total"
   ]
  },
  {
   "cell_type": "code",
   "execution_count": 45,
   "metadata": {},
   "outputs": [
    {
     "data": {
      "text/plain": [
       "100"
      ]
     },
     "execution_count": 45,
     "metadata": {},
     "output_type": "execute_result"
    }
   ],
   "source": [
    "product([4, 5, 5])"
   ]
  },
  {
   "cell_type": "markdown",
   "metadata": {},
   "source": [
    "Write a function remove_duplicates that takes in a list and removes elements of the list that are the same.\n",
    "\n",
    "For example: remove_duplicates([1, 1, 2, 2]) should return [1, 2].\n",
    "\n",
    "Don't remove every occurrence, since you need to keep a single occurrence of a number.\n",
    "The order in which you present your output does not matter. So returning [1, 2, 3] is the same as returning [3, 1, 2].\n",
    "Do not modify the list you take as input! Instead, return a new list."
   ]
  },
  {
   "cell_type": "code",
   "execution_count": 46,
   "metadata": {},
   "outputs": [],
   "source": [
    "def remove_duplicates(inputlist):\n",
    "    if inputlist == []:\n",
    "        return []\n",
    "    \n",
    "# Sort the input list from low to high    \n",
    "    inputlist = sorted(inputlist)\n",
    "# Initialize the output list, and give it the first value of the now-sorted input list\n",
    "    outputlist = [inputlist[0]]\n",
    "\n",
    "# Go through the values of the sorted list and append to the output list\n",
    "# ...any values that are greater than the last value of the output list\n",
    "    for i in inputlist:\n",
    "        if i > outputlist[-1]:\n",
    "            outputlist.append(i)\n",
    "        \n",
    "    return outputlist"
   ]
  },
  {
   "cell_type": "code",
   "execution_count": 47,
   "metadata": {},
   "outputs": [
    {
     "data": {
      "text/plain": [
       "[1, 2]"
      ]
     },
     "execution_count": 47,
     "metadata": {},
     "output_type": "execute_result"
    }
   ],
   "source": [
    "remove_duplicates([1, 1, 2, 2])"
   ]
  },
  {
   "cell_type": "code",
   "execution_count": null,
   "metadata": {},
   "outputs": [],
   "source": []
  }
 ],
 "metadata": {
  "kernelspec": {
   "display_name": "Python [default]",
   "language": "python",
   "name": "python3"
  },
  "language_info": {
   "codemirror_mode": {
    "name": "ipython",
    "version": 3
   },
   "file_extension": ".py",
   "mimetype": "text/x-python",
   "name": "python",
   "nbconvert_exporter": "python",
   "pygments_lexer": "ipython3",
   "version": "3.6.6"
  }
 },
 "nbformat": 4,
 "nbformat_minor": 2
}

{
 "cells": [
  {
   "cell_type": "markdown",
   "metadata": {},
   "source": [
    "# Battleship game"
   ]
  },
  {
   "cell_type": "raw",
   "metadata": {},
   "source": [
    "\n",
    "Now we'll use a built-in Python function to generate our board, which we'll make into a 5 x 5 grid of all \"O\"s, for \"ocean.\"\n",
    "\n",
    "print [\"O\"] * 5\n",
    "will print out ['O', 'O', 'O', 'O', 'O'], which is the basis for a row of our board.\n",
    "\n",
    "We'll do this five times to make five rows. (Since we have to do this five times, it sounds like a loop might be in order.)\n",
    "\n"
   ]
  },
  {
   "cell_type": "raw",
   "metadata": {},
   "source": [
    "Create a 5 x 5 grid initialized to all 'O's and store it in board.\n",
    "\n",
    "Use range() to loop 5 times.\n",
    "Inside the loop, .append() a list containing 5 \"O\"s to board, just like in the example above.\n",
    "Note that these are capital letter \"O\" and not zeros."
   ]
  },
  {
   "cell_type": "code",
   "execution_count": 1,
   "metadata": {},
   "outputs": [],
   "source": [
    "\n",
    "board = []\n",
    "for i in range(5):\n",
    "  board.append(['O'] * 5)\n",
    "\n",
    "\n"
   ]
  },
  {
   "cell_type": "raw",
   "metadata": {},
   "source": [
    "We can use the fact that our board is a list of lists to help us do this. Let's set up a for loop to go through each of the elements in the outer list (each of which is a row of our board) and print them.\n",
    "\n",
    "Instructions\n",
    "\n",
    "1.First, delete your existing print statement.\n",
    "\n",
    "Then, define a function named print_board with a single argument, board_in.\n",
    "\n",
    "Inside the function, write a for loop to iterates through each row in board and print it to the screen.\n",
    "\n",
    "Call your function with board to make sure it works."
   ]
  },
  {
   "cell_type": "code",
   "execution_count": 2,
   "metadata": {},
   "outputs": [
    {
     "ename": "SyntaxError",
     "evalue": "Missing parentheses in call to 'print'. Did you mean print(row)? (<ipython-input-2-e256a69c5053>, line 8)",
     "output_type": "error",
     "traceback": [
      "\u001b[0;36m  File \u001b[0;32m\"<ipython-input-2-e256a69c5053>\"\u001b[0;36m, line \u001b[0;32m8\u001b[0m\n\u001b[0;31m    print row\u001b[0m\n\u001b[0m            ^\u001b[0m\n\u001b[0;31mSyntaxError\u001b[0m\u001b[0;31m:\u001b[0m Missing parentheses in call to 'print'. Did you mean print(row)?\n"
     ]
    }
   ],
   "source": [
    "board = []\n",
    "\n",
    "for i in range(5):\n",
    "  board.append([\"O\"] * 5)\n",
    "\n",
    "def print_board(board_in):\n",
    "  for row in board:\n",
    "    print row\n",
    "    \n",
    "print_board(board)"
   ]
  },
  {
   "cell_type": "code",
   "execution_count": null,
   "metadata": {},
   "outputs": [],
   "source": []
  }
 ],
 "metadata": {
  "kernelspec": {
   "display_name": "Python [default]",
   "language": "python",
   "name": "python3"
  },
  "language_info": {
   "codemirror_mode": {
    "name": "ipython",
    "version": 3
   },
   "file_extension": ".py",
   "mimetype": "text/x-python",
   "name": "python",
   "nbconvert_exporter": "python",
   "pygments_lexer": "ipython3",
   "version": "3.6.6"
  }
 },
 "nbformat": 4,
 "nbformat_minor": 2
}

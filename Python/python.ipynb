{
 "cells": [
  {
   "cell_type": "markdown",
   "metadata": {},
   "source": [
    "# DATE TIME LIBRARY"
   ]
  },
  {
   "cell_type": "markdown",
   "metadata": {},
   "source": [
    "What if we want to print today's date in the following format? mm/dd/yyyy."
   ]
  },
  {
   "cell_type": "code",
   "execution_count": 6,
   "metadata": {},
   "outputs": [
    {
     "name": "stdout",
     "output_type": "stream",
     "text": [
      "08/23/2018\n",
      "23/08/2018\n"
     ]
    }
   ],
   "source": [
    "from datetime import datetime\n",
    "now = datetime.now()\n",
    "\n",
    "print('%02d/%02d/%04d' % (now.month, now.day, now.year))\n",
    "print('%02d/%02d/%04d' % (now.day, now.month, now.year))"
   ]
  },
  {
   "cell_type": "markdown",
   "metadata": {},
   "source": [
    "Let's do the same for the hour, minute, and second."
   ]
  },
  {
   "cell_type": "code",
   "execution_count": 9,
   "metadata": {},
   "outputs": [
    {
     "name": "stdout",
     "output_type": "stream",
     "text": [
      "18\n",
      "47\n",
      "50\n"
     ]
    }
   ],
   "source": [
    "from datetime import datetime\n",
    "now = datetime.now()\n",
    "\n",
    "print(now.hour)\n",
    "print(now.minute)\n",
    "print(now.second)"
   ]
  },
  {
   "cell_type": "code",
   "execution_count": 12,
   "metadata": {},
   "outputs": [
    {
     "name": "stdout",
     "output_type": "stream",
     "text": [
      "18:47:0050\n"
     ]
    }
   ],
   "source": [
    "print ('%02d:%02d:%04d' % (now.hour, now.minute, now.second))"
   ]
  },
  {
   "cell_type": "code",
   "execution_count": 13,
   "metadata": {},
   "outputs": [
    {
     "name": "stdout",
     "output_type": "stream",
     "text": [
      "23/08/2018 18:47:50\n"
     ]
    }
   ],
   "source": [
    "print ('%02d/%02d/%04d' % (now.day, now.month, now.year) + ' ' + '%02d:%02d:%02d' % (now.hour, now.minute, now.second))"
   ]
  },
  {
   "cell_type": "markdown",
   "metadata": {},
   "source": [
    "# CONDITIONALS & CONTROL FLOW"
   ]
  },
  {
   "cell_type": "markdown",
   "metadata": {},
   "source": [
    "Control flow gives us this ability to choose among outcomes based on what else is happening in the program."
   ]
  },
  {
   "cell_type": "markdown",
   "metadata": {},
   "source": [
    "Remember, comparators are: ==, !=, >, >=, <, and <=."
   ]
  },
  {
   "cell_type": "markdown",
   "metadata": {},
   "source": [
    "**To Be and/or Not to Be**:\n",
    "\n",
    "Boolean operators compare statements and result in boolean values.:\n",
    "There are three boolean operators:\n",
    "\n",
    "and, which checks if both the statements are True;\n",
    "or, which checks if at least one of the statements is True;\n",
    "not, which gives the opposite of the statement.\n",
    "We'll go through the operators one by one."
   ]
  },
  {
   "cell_type": "markdown",
   "metadata": {},
   "source": [
    "**AND**"
   ]
  },
  {
   "cell_type": "code",
   "execution_count": 16,
   "metadata": {},
   "outputs": [
    {
     "name": "stdout",
     "output_type": "stream",
     "text": [
      "False\n",
      "False\n",
      "False\n",
      "True\n"
     ]
    }
   ],
   "source": [
    "bool_one = False and False\n",
    "\n",
    "bool_two = -(-(-(-2))) == -2 and 4 >= 16 ** 0.5\n",
    "\n",
    "bool_three = 19 % 4 != 300 / 10 / 10 and False\n",
    "\n",
    "bool_four = -(1 ** 2) < 2 ** 0 and 10 % 10 <= 20 - 10 * 2\n",
    "\n",
    "bool_five = True and True\n",
    "\n",
    "print(bool_one)\n",
    "print(bool_two)\n",
    "print(bool_three)\n",
    "print(bool_four)"
   ]
  },
  {
   "cell_type": "markdown",
   "metadata": {},
   "source": [
    "**OR**"
   ]
  },
  {
   "cell_type": "code",
   "execution_count": null,
   "metadata": {},
   "outputs": [],
   "source": [
    "The boolean operator or returns True when at least one expression on either side of or is true. For example:\n",
    "\n",
    "1 < 2 or 2 > 3 is True;\n",
    "1 > 2 or 2 > 3 is False."
   ]
  },
  {
   "cell_type": "code",
   "execution_count": 17,
   "metadata": {},
   "outputs": [
    {
     "name": "stdout",
     "output_type": "stream",
     "text": [
      "True\n",
      "True\n",
      "False\n",
      "True\n"
     ]
    }
   ],
   "source": [
    "bool_one = 2 ** 3 == 108 % 100 or 'Cleese' == 'King Arthur'\n",
    "\n",
    "bool_two = True or False\n",
    "\n",
    "bool_three = 100 ** 0.5 >= 50 or False\n",
    "\n",
    "bool_four = True or True\n",
    "\n",
    "bool_five = 1 ** 100 == 100 ** 1 or 3 * 2 * 1 != 3 + 2 + 1\n",
    "\n",
    "print(bool_one)\n",
    "print(bool_two)\n",
    "print(bool_three)\n",
    "print(bool_four)"
   ]
  },
  {
   "cell_type": "markdown",
   "metadata": {},
   "source": [
    "**NOT**"
   ]
  },
  {
   "cell_type": "markdown",
   "metadata": {},
   "source": [
    "The boolean operator not returns True for false statements and False for true statements.\n",
    "\n",
    "For example:\n",
    "\n",
    "not False will evaluate to True, while not 41 > 40 will return False."
   ]
  },
  {
   "cell_type": "code",
   "execution_count": 19,
   "metadata": {},
   "outputs": [
    {
     "name": "stdout",
     "output_type": "stream",
     "text": [
      "False\n",
      "True\n",
      "True\n",
      "True\n"
     ]
    }
   ],
   "source": [
    "bool_one = not True\n",
    "\n",
    "bool_two = not 3 ** 4 < 4 ** 3\n",
    "\n",
    "bool_three = not 10 % 3 <= 10 % 2\n",
    "\n",
    "bool_four = not 3 ** 2 + 4 ** 2 != 5 ** 2\n",
    "\n",
    "bool_five = not not False\n",
    "\n",
    "print(bool_one)\n",
    "print(bool_two)\n",
    "print(bool_three)\n",
    "print(bool_four)"
   ]
  },
  {
   "cell_type": "markdown",
   "metadata": {},
   "source": [
    "**This and That (or This, But Not That!)**"
   ]
  },
  {
   "cell_type": "code",
   "execution_count": 18,
   "metadata": {},
   "outputs": [
    {
     "name": "stdout",
     "output_type": "stream",
     "text": [
      "False\n",
      "True\n",
      "True\n",
      "True\n",
      "False\n"
     ]
    }
   ],
   "source": [
    "bool_one = False or not True and True\n",
    "\n",
    "bool_two = False and not True or True\n",
    "\n",
    "bool_three = True and not (False or False)\n",
    "\n",
    "bool_four = not not True or False and not True\n",
    "\n",
    "bool_five = False or not (True and True)\n",
    "\n",
    "print(bool_one)\n",
    "print(bool_two)\n",
    "print(bool_three)\n",
    "print(bool_four)\n",
    "print(bool_five)"
   ]
  },
  {
   "cell_type": "markdown",
   "metadata": {},
   "source": [
    "**IF, ELIF, ELSE**"
   ]
  },
  {
   "cell_type": "code",
   "execution_count": 26,
   "metadata": {},
   "outputs": [
    {
     "name": "stdout",
     "output_type": "stream",
     "text": [
      "-1\n",
      "0\n",
      "1\n"
     ]
    }
   ],
   "source": [
    "def greater_less_equal_5(answer):\n",
    "    if answer > 5:\n",
    "        return 1\n",
    "    elif answer < 5:          \n",
    "        return -1\n",
    "    else:\n",
    "        return 0\n",
    "        \n",
    "print (greater_less_equal_5(4))\n",
    "print (greater_less_equal_5(5))\n",
    "print (greater_less_equal_5(6))\n",
    "\n"
   ]
  },
  {
   "cell_type": "markdown",
   "metadata": {},
   "source": [
    "**The Big If**"
   ]
  },
  {
   "cell_type": "markdown",
   "metadata": {},
   "source": [
    "The purpose of this function is to take a number grade (1-100), defined by the variable grade, and to return the appropriate letter grade (A, B, C, D, or F).\n",
    "\n",
    "Your task is to complete the function by creating appropriate if and elif statements that will compare the input grade with a number and then return a letter grade.\n",
    "\n",
    "Your function should return the following letter grades:\n",
    "\n",
    "90 or higher should get an \"A\"\n",
    "80 - 89 should get a \"B\"\n",
    "70 - 79 should get a \"C\"\n",
    "65 - 69 should get a \"D\"\n",
    "Anything below a 65 should receive an \"F\""
   ]
  },
  {
   "cell_type": "code",
   "execution_count": 28,
   "metadata": {},
   "outputs": [
    {
     "name": "stdout",
     "output_type": "stream",
     "text": [
      "A\n",
      "C\n",
      "F\n"
     ]
    }
   ],
   "source": [
    "def grade_converter(grade):\n",
    "    if grade >= 90:\n",
    "        return \"A\"\n",
    "    elif grade >= 80:\n",
    "        return \"B\"\n",
    "    elif grade >= 70:\n",
    "        return \"C\"\n",
    "    elif grade >= 65:\n",
    "        return \"D\"\n",
    "    else:\n",
    "        return \"F\"\n",
    "      \n",
    "# This should print an \"A\"      \n",
    "print (grade_converter(92))\n",
    "\n",
    "# This should print a \"C\"\n",
    "print( grade_converter(70))\n",
    "\n",
    "# This should print an \"F\"\n",
    "print (grade_converter(61))"
   ]
  }
 ],
 "metadata": {
  "kernelspec": {
   "display_name": "Python [default]",
   "language": "python",
   "name": "python3"
  },
  "language_info": {
   "codemirror_mode": {
    "name": "ipython",
    "version": 3
   },
   "file_extension": ".py",
   "mimetype": "text/x-python",
   "name": "python",
   "nbconvert_exporter": "python",
   "pygments_lexer": "ipython3",
   "version": "3.6.6"
  }
 },
 "nbformat": 4,
 "nbformat_minor": 2
}

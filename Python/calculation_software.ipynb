{
 "cells": [
  {
   "cell_type": "code",
   "execution_count": 12,
   "metadata": {},
   "outputs": [
    {
     "name": "stdout",
     "output_type": "stream",
     "text": [
      "Grades: [100, 100, 90, 40, 80, 100, 85, 70, 90, 65, 90, 85, 50.5]\n"
     ]
    }
   ],
   "source": [
    "grades = [100, 100, 90, 40, 80, 100, 85, 70, 90, 65, 90, 85, 50.5]\n",
    "print (\"Grades:\", grades)"
   ]
  },
  {
   "cell_type": "markdown",
   "metadata": {},
   "source": [
    "Define a function on line 3 called print_grades with one argument, a list called grades_input.\n",
    "\n",
    "Inside the function, iterate through grades_input and print each item on its own line.\n",
    "\n",
    "After your function, call print_grades with the grades list as the parameter."
   ]
  },
  {
   "cell_type": "code",
   "execution_count": 13,
   "metadata": {},
   "outputs": [
    {
     "name": "stdout",
     "output_type": "stream",
     "text": [
      "100\n",
      "100\n",
      "90\n",
      "40\n",
      "80\n",
      "100\n",
      "85\n",
      "70\n",
      "90\n",
      "65\n",
      "90\n",
      "85\n",
      "50.5\n"
     ]
    }
   ],
   "source": [
    "def print_grades(grades_input):\n",
    "    for grade in grades_input:\n",
    "        print(grade)\n",
    "print_grades(grades)"
   ]
  },
  {
   "cell_type": "markdown",
   "metadata": {},
   "source": [
    "The mean (average) of the grades."
   ]
  },
  {
   "cell_type": "markdown",
   "metadata": {},
   "source": [
    "Define a function, grades_sum, that does the following:\n",
    "\n",
    "Takes in a list of scores, scores\n",
    "Computes the sum of the scores\n",
    "Returns the computed sum.\n",
    "Call the newly created grades_sum function with the list of grades and print the result."
   ]
  },
  {
   "cell_type": "code",
   "execution_count": 14,
   "metadata": {},
   "outputs": [
    {
     "name": "stdout",
     "output_type": "stream",
     "text": [
      "1045.5\n"
     ]
    }
   ],
   "source": [
    "grades = [100, 100, 90, 40, 80, 100, 85, 70, 90, 65, 90, 85, 50.5]\n",
    "\n",
    "def grades_sum(scores):\n",
    "  total = 0\n",
    "  for score in scores: \n",
    "    total += score\n",
    "  return total\n",
    "\n",
    "print (grades_sum(grades))"
   ]
  },
  {
   "cell_type": "raw",
   "metadata": {},
   "source": [
    "Define a function, grades_average, below the grades_sum function that does the following:\n",
    "\n",
    "Has one argument, grades_input, a list\n",
    "Calls grades_sum with grades_input\n",
    "Computes the average of the grades by dividing that sum by float(len(grades_input)).\n",
    "Returns the average.\n",
    "Call the newly created grades_average function with the list of grades and print the result."
   ]
  },
  {
   "cell_type": "code",
   "execution_count": 15,
   "metadata": {},
   "outputs": [
    {
     "name": "stdout",
     "output_type": "stream",
     "text": [
      "1045.5\n"
     ]
    }
   ],
   "source": [
    "grades = [100, 100, 90, 40, 80, 100, 85, 70, 90, 65, 90, 85, 50.5]\n",
    "\n",
    "def grades_sum(scores):\n",
    "  total = 0\n",
    "  for score in scores: \n",
    "    total += score\n",
    "  return total\n",
    "\n",
    "print (grades_sum(grades))\n",
    "\n",
    "def grades_average(grades_input):\n",
    "  sum_of_grades = grades_sum(grades_input)\n",
    "  average = sum_of_grades / float(len(grades_input))\n",
    "  return average\n",
    "  "
   ]
  },
  {
   "cell_type": "markdown",
   "metadata": {},
   "source": [
    "Define a new function called grades_variance that accepts one argument, scores, a list.\n",
    "\n",
    "First, create a variable average and store the result of calling grades_average(scores).\n",
    "\n",
    "Next, create another variable variance and set it to zero. We will use this as a rolling sum.\n",
    "\n",
    "for each score in scores: Compute its squared difference: (average - score) ** 2 and add that to variance.\n",
    "\n",
    "Divide the total variance by the number of scores.\n",
    "\n",
    "Then, return that result.\n",
    "\n",
    "Finally, after your function code, print grades_variance(grades)."
   ]
  },
  {
   "cell_type": "code",
   "execution_count": 16,
   "metadata": {},
   "outputs": [
    {
     "name": "stdout",
     "output_type": "stream",
     "text": [
      "334.0710059171598\n"
     ]
    }
   ],
   "source": [
    "def grades_variance(scores):\n",
    "    average = grades_average(scores)\n",
    "    variance = 0\n",
    "    for score in scores:\n",
    "        variance += (average - score) ** 2\n",
    "    return variance / len(scores)\n",
    "\n",
    "print (grades_variance(grades))"
   ]
  },
  {
   "cell_type": "markdown",
   "metadata": {},
   "source": [
    "Define a function, grades_std_deviation, that takes one argument called variance.\n",
    "\n",
    "return the result of variance ** 0.5\n",
    "\n",
    "After the function, create a new variable called variance and store the result of calling grades_variance(grades).\n",
    "\n",
    "Finally print the result of calling grades_std_deviation(variance)."
   ]
  },
  {
   "cell_type": "code",
   "execution_count": 18,
   "metadata": {},
   "outputs": [
    {
     "name": "stdout",
     "output_type": "stream",
     "text": [
      "18.277609414722697\n"
     ]
    }
   ],
   "source": [
    "def grades_std_deviation(variance):\n",
    "  return variance ** 0.5\n",
    "\n",
    "variance = grades_variance(grades)\n",
    "\n",
    "print (grades_std_deviation(variance))"
   ]
  },
  {
   "cell_type": "raw",
   "metadata": {},
   "source": [
    "Print out the following:\n",
    "\n",
    "all of the grades\n",
    "sum of grades\n",
    "average grade\n",
    "variance\n",
    "standard deviation"
   ]
  },
  {
   "cell_type": "code",
   "execution_count": 21,
   "metadata": {},
   "outputs": [
    {
     "name": "stdout",
     "output_type": "stream",
     "text": [
      "100\n",
      "100\n",
      "90\n",
      "40\n",
      "80\n",
      "100\n",
      "85\n",
      "70\n",
      "90\n",
      "65\n",
      "90\n",
      "85\n",
      "50.5\n",
      "1045.5\n",
      "80.42307692307692\n",
      "334.0710059171598\n",
      "18.277609414722697\n"
     ]
    }
   ],
   "source": [
    "for grade in grades:\n",
    "  print (grade)\n",
    "print (grades_sum(grades))\n",
    "print (grades_average(grades))\n",
    "print (grades_variance(grades))\n",
    "print (grades_std_deviation(variance))"
   ]
  },
  {
   "cell_type": "code",
   "execution_count": null,
   "metadata": {},
   "outputs": [],
   "source": []
  }
 ],
 "metadata": {
  "kernelspec": {
   "display_name": "Python [default]",
   "language": "python",
   "name": "python3"
  },
  "language_info": {
   "codemirror_mode": {
    "name": "ipython",
    "version": 3
   },
   "file_extension": ".py",
   "mimetype": "text/x-python",
   "name": "python",
   "nbconvert_exporter": "python",
   "pygments_lexer": "ipython3",
   "version": "3.6.6"
  }
 },
 "nbformat": 4,
 "nbformat_minor": 2
}
